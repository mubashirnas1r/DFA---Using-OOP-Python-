{
 "cells": [
  {
   "cell_type": "markdown",
   "metadata": {},
   "source": [
    "Importing Required Libraries"
   ]
  },
  {
   "cell_type": "code",
   "execution_count": 2,
   "metadata": {},
   "outputs": [],
   "source": [
    "import pandas as pd"
   ]
  },
  {
   "cell_type": "markdown",
   "metadata": {},
   "source": [
    "Creating DFA Class"
   ]
  },
  {
   "cell_type": "code",
   "execution_count": 3,
   "metadata": {},
   "outputs": [],
   "source": [
    "class DFA():\n",
    "    alphabets = []\n",
    "    states = []\n",
    "    intial_state = \"\"\n",
    "    final_states = []\n",
    "    transition_table = 0\n",
    "    \n",
    "    \n",
    "    def __init__(self,states = [],alp = [],transition = 0,intial = \"a\", final = []):\n",
    "        self.states = states\n",
    "        self.alphabets  = alp\n",
    "        self.intial_state = intial\n",
    "        self.final_states = final \n",
    "        self.transition_table = transition\n",
    "    \n",
    "    def display(self):\n",
    "        print(\"alphabets:\",self.alphabets)\n",
    "        print(\"finite states:\",self.states)\n",
    "        print(\"intial state:\",self.intial_state)\n",
    "        print(\"final states:\",self.final_states)\n",
    "        print(\"transition tabel:\\n\",self.transition_table)\n",
    "    \n",
    "    def perform_transitions(self,string = \"10\"):\n",
    "        current_state = self.intial_state\n",
    "        for element in string:\n",
    "            if element not in self.alphabets:\n",
    "                return -1\n",
    "            current_state = self.transition_table.at[list(self.transition_table[\"State\"]).index(current_state),element]\n",
    "        if current_state in self.final_states:\n",
    "            return 1\n",
    "        else:\n",
    "            return 0\n",
    "        "
   ]
  },
  {
   "cell_type": "markdown",
   "metadata": {},
   "source": [
    "Creating Transition Tables for all DFA's"
   ]
  },
  {
   "cell_type": "code",
   "execution_count": 4,
   "metadata": {},
   "outputs": [],
   "source": [
    "\n",
    "data={'State':['q0','q1','q2','q3'],'0':['q1','q0','q3','q2'],'1':['q3','q2','q1','q0']}\n",
    "transition_table1=pd.DataFrame(data,index=None)\n",
    "transition_table1 \n",
    "\n",
    "data={'State':['q0','q1','q2','q3','q4'],'0':['q3','q1','q2','q4','q4'],'1':['q1','q2','q2','q3','q4']}\n",
    "transition_table2=pd.DataFrame(data,index=None)\n",
    "transition_table2\n",
    "\n",
    "data={'State':['q0','q1','q2','q3'],'a':['q2','q3','q3','q3'],'b':['q2','q2','q3','q3'],'c':['q1','q2','q3','q3']}\n",
    "transition_table3=pd.DataFrame(data,index=None)"
   ]
  },
  {
   "cell_type": "code",
   "execution_count": 5,
   "metadata": {},
   "outputs": [
    {
     "data": {
      "text/html": [
       "<div>\n",
       "<style scoped>\n",
       "    .dataframe tbody tr th:only-of-type {\n",
       "        vertical-align: middle;\n",
       "    }\n",
       "\n",
       "    .dataframe tbody tr th {\n",
       "        vertical-align: top;\n",
       "    }\n",
       "\n",
       "    .dataframe thead th {\n",
       "        text-align: right;\n",
       "    }\n",
       "</style>\n",
       "<table border=\"1\" class=\"dataframe\">\n",
       "  <thead>\n",
       "    <tr style=\"text-align: right;\">\n",
       "      <th></th>\n",
       "      <th>State</th>\n",
       "      <th>0</th>\n",
       "      <th>1</th>\n",
       "    </tr>\n",
       "  </thead>\n",
       "  <tbody>\n",
       "    <tr>\n",
       "      <th>0</th>\n",
       "      <td>q0</td>\n",
       "      <td>q1</td>\n",
       "      <td>q3</td>\n",
       "    </tr>\n",
       "    <tr>\n",
       "      <th>1</th>\n",
       "      <td>q1</td>\n",
       "      <td>q0</td>\n",
       "      <td>q2</td>\n",
       "    </tr>\n",
       "    <tr>\n",
       "      <th>2</th>\n",
       "      <td>q2</td>\n",
       "      <td>q3</td>\n",
       "      <td>q1</td>\n",
       "    </tr>\n",
       "    <tr>\n",
       "      <th>3</th>\n",
       "      <td>q3</td>\n",
       "      <td>q2</td>\n",
       "      <td>q0</td>\n",
       "    </tr>\n",
       "  </tbody>\n",
       "</table>\n",
       "</div>"
      ],
      "text/plain": [
       "  State   0   1\n",
       "0    q0  q1  q3\n",
       "1    q1  q0  q2\n",
       "2    q2  q3  q1\n",
       "3    q3  q2  q0"
      ]
     },
     "execution_count": 5,
     "metadata": {},
     "output_type": "execute_result"
    }
   ],
   "source": [
    "transition_table1"
   ]
  },
  {
   "cell_type": "code",
   "execution_count": 6,
   "metadata": {},
   "outputs": [
    {
     "data": {
      "text/html": [
       "<div>\n",
       "<style scoped>\n",
       "    .dataframe tbody tr th:only-of-type {\n",
       "        vertical-align: middle;\n",
       "    }\n",
       "\n",
       "    .dataframe tbody tr th {\n",
       "        vertical-align: top;\n",
       "    }\n",
       "\n",
       "    .dataframe thead th {\n",
       "        text-align: right;\n",
       "    }\n",
       "</style>\n",
       "<table border=\"1\" class=\"dataframe\">\n",
       "  <thead>\n",
       "    <tr style=\"text-align: right;\">\n",
       "      <th></th>\n",
       "      <th>State</th>\n",
       "      <th>0</th>\n",
       "      <th>1</th>\n",
       "    </tr>\n",
       "  </thead>\n",
       "  <tbody>\n",
       "    <tr>\n",
       "      <th>0</th>\n",
       "      <td>q0</td>\n",
       "      <td>q3</td>\n",
       "      <td>q1</td>\n",
       "    </tr>\n",
       "    <tr>\n",
       "      <th>1</th>\n",
       "      <td>q1</td>\n",
       "      <td>q1</td>\n",
       "      <td>q2</td>\n",
       "    </tr>\n",
       "    <tr>\n",
       "      <th>2</th>\n",
       "      <td>q2</td>\n",
       "      <td>q2</td>\n",
       "      <td>q2</td>\n",
       "    </tr>\n",
       "    <tr>\n",
       "      <th>3</th>\n",
       "      <td>q3</td>\n",
       "      <td>q4</td>\n",
       "      <td>q3</td>\n",
       "    </tr>\n",
       "    <tr>\n",
       "      <th>4</th>\n",
       "      <td>q4</td>\n",
       "      <td>q4</td>\n",
       "      <td>q4</td>\n",
       "    </tr>\n",
       "  </tbody>\n",
       "</table>\n",
       "</div>"
      ],
      "text/plain": [
       "  State   0   1\n",
       "0    q0  q3  q1\n",
       "1    q1  q1  q2\n",
       "2    q2  q2  q2\n",
       "3    q3  q4  q3\n",
       "4    q4  q4  q4"
      ]
     },
     "execution_count": 6,
     "metadata": {},
     "output_type": "execute_result"
    }
   ],
   "source": [
    "transition_table2"
   ]
  },
  {
   "cell_type": "code",
   "execution_count": 7,
   "metadata": {},
   "outputs": [
    {
     "data": {
      "text/html": [
       "<div>\n",
       "<style scoped>\n",
       "    .dataframe tbody tr th:only-of-type {\n",
       "        vertical-align: middle;\n",
       "    }\n",
       "\n",
       "    .dataframe tbody tr th {\n",
       "        vertical-align: top;\n",
       "    }\n",
       "\n",
       "    .dataframe thead th {\n",
       "        text-align: right;\n",
       "    }\n",
       "</style>\n",
       "<table border=\"1\" class=\"dataframe\">\n",
       "  <thead>\n",
       "    <tr style=\"text-align: right;\">\n",
       "      <th></th>\n",
       "      <th>State</th>\n",
       "      <th>a</th>\n",
       "      <th>b</th>\n",
       "      <th>c</th>\n",
       "    </tr>\n",
       "  </thead>\n",
       "  <tbody>\n",
       "    <tr>\n",
       "      <th>0</th>\n",
       "      <td>q0</td>\n",
       "      <td>q2</td>\n",
       "      <td>q2</td>\n",
       "      <td>q1</td>\n",
       "    </tr>\n",
       "    <tr>\n",
       "      <th>1</th>\n",
       "      <td>q1</td>\n",
       "      <td>q3</td>\n",
       "      <td>q2</td>\n",
       "      <td>q2</td>\n",
       "    </tr>\n",
       "    <tr>\n",
       "      <th>2</th>\n",
       "      <td>q2</td>\n",
       "      <td>q3</td>\n",
       "      <td>q3</td>\n",
       "      <td>q3</td>\n",
       "    </tr>\n",
       "    <tr>\n",
       "      <th>3</th>\n",
       "      <td>q3</td>\n",
       "      <td>q3</td>\n",
       "      <td>q3</td>\n",
       "      <td>q3</td>\n",
       "    </tr>\n",
       "  </tbody>\n",
       "</table>\n",
       "</div>"
      ],
      "text/plain": [
       "  State   a   b   c\n",
       "0    q0  q2  q2  q1\n",
       "1    q1  q3  q2  q2\n",
       "2    q2  q3  q3  q3\n",
       "3    q3  q3  q3  q3"
      ]
     },
     "execution_count": 7,
     "metadata": {},
     "output_type": "execute_result"
    }
   ],
   "source": [
    "transition_table3"
   ]
  },
  {
   "cell_type": "markdown",
   "metadata": {},
   "source": [
    "< DFA - Parameters >"
   ]
  },
  {
   "cell_type": "code",
   "execution_count": 8,
   "metadata": {},
   "outputs": [],
   "source": [
    "dfa = list()"
   ]
  },
  {
   "cell_type": "markdown",
   "metadata": {},
   "source": [
    "DFA - 1"
   ]
  },
  {
   "cell_type": "code",
   "execution_count": 9,
   "metadata": {},
   "outputs": [
    {
     "name": "stdout",
     "output_type": "stream",
     "text": [
      "alphabets: ['0', '1']\n",
      "finite states: ['q0', 'q1', 'q2', 'q3']\n",
      "intial state: q0\n",
      "final states: ['q0']\n",
      "transition tabel:\n",
      "   State   0   1\n",
      "0    q0  q1  q3\n",
      "1    q1  q0  q2\n",
      "2    q2  q3  q1\n",
      "3    q3  q2  q0\n"
     ]
    }
   ],
   "source": [
    "\n",
    "alphabets = ['0','1']\n",
    "states = list(transition_table1[\"State\"])\n",
    "intial_state = \"q0\"\n",
    "final_states = [\"q0\"]\n",
    "\n",
    "dfa.append(DFA(states,alphabets,transition_table1,intial_state,final_states))\n",
    "dfa[0].display()\n"
   ]
  },
  {
   "cell_type": "markdown",
   "metadata": {},
   "source": [
    "DFA - 2"
   ]
  },
  {
   "cell_type": "code",
   "execution_count": 10,
   "metadata": {},
   "outputs": [
    {
     "name": "stdout",
     "output_type": "stream",
     "text": [
      "alphabets: ['0', '1']\n",
      "finite states: ['q0', 'q1', 'q2', 'q3', 'q4']\n",
      "intial state: q0\n",
      "final states: ['q2', 'q4']\n",
      "transition tabel:\n",
      "   State   0   1\n",
      "0    q0  q3  q1\n",
      "1    q1  q1  q2\n",
      "2    q2  q2  q2\n",
      "3    q3  q4  q3\n",
      "4    q4  q4  q4\n"
     ]
    }
   ],
   "source": [
    "alphabets = ['0','1']\n",
    "states = list(transition_table2[\"State\"])\n",
    "intial_state = states[0]\n",
    "final_states = ['q2','q4']\n",
    "\n",
    "dfa.append(DFA(states,alphabets,transition_table2,intial_state,final_states))\n",
    "dfa[1].display()"
   ]
  },
  {
   "cell_type": "markdown",
   "metadata": {},
   "source": [
    "DFA - 3"
   ]
  },
  {
   "cell_type": "code",
   "execution_count": 11,
   "metadata": {},
   "outputs": [
    {
     "name": "stdout",
     "output_type": "stream",
     "text": [
      "alphabets: ['a', 'b', 'c']\n",
      "finite states: ['q0', 'q1', 'q2', 'q3']\n",
      "intial state: q0\n",
      "final states: ['q2']\n",
      "transition tabel:\n",
      "   State   a   b   c\n",
      "0    q0  q2  q2  q1\n",
      "1    q1  q3  q2  q2\n",
      "2    q2  q3  q3  q3\n",
      "3    q3  q3  q3  q3\n"
     ]
    }
   ],
   "source": [
    "alphabets = ['a','b','c']\n",
    "states = list(transition_table3[\"State\"])\n",
    "intial_state = states[0]\n",
    "final_states = [\"q2\"]\n",
    "\n",
    "dfa.append(DFA(states,alphabets,transition_table3,intial_state,final_states))\n",
    "dfa[2].display()"
   ]
  },
  {
   "cell_type": "markdown",
   "metadata": {},
   "source": [
    "< Reading String from file >"
   ]
  },
  {
   "cell_type": "code",
   "execution_count": 12,
   "metadata": {},
   "outputs": [],
   "source": [
    "strings_01 = pd.read_csv(\"strings_01.csv\")\n",
    "strings_abc = pd.read_csv(\"strings_abc.csv\")"
   ]
  },
  {
   "cell_type": "markdown",
   "metadata": {},
   "source": [
    "< Check Strings DFA-1>"
   ]
  },
  {
   "cell_type": "code",
   "execution_count": 13,
   "metadata": {},
   "outputs": [
    {
     "name": "stdout",
     "output_type": "stream",
     "text": [
      "abc :- Invalid String!\n",
      "abbc :- Invalid String!\n",
      "abcbca :- Invalid String!\n",
      "aabcba :- Invalid String!\n",
      "a :- Invalid String!\n",
      "b :- Invalid String!\n",
      "c :- Invalid String!\n",
      "ca :- Invalid String!\n",
      "ba :- Invalid String!\n",
      "abcaaa :- Invalid String!\n",
      "abbcab :- Invalid String!\n",
      "010111 :- Accepted\n",
      "cbaabc :- Invalid String!\n",
      "ca :- Invalid String!\n",
      "cb :- Invalid String!\n",
      "cc :- Invalid String!\n"
     ]
    }
   ],
   "source": [
    "for string in strings_01[\"String\"]:\n",
    "    flag = dfa[0].perform_transitions(string)\n",
    "    if flag == -1:\n",
    "        print(string,\":- Invalid String!\")\n",
    "    elif flag == 0:\n",
    "        True\n",
    "        print(string,\":- Not-Accepted\")\n",
    "    else:\n",
    "        print(string,\":- Accepted\")\n"
   ]
  },
  {
   "cell_type": "markdown",
   "metadata": {},
   "source": [
    "< Check Strings DFA-2>"
   ]
  },
  {
   "cell_type": "code",
   "execution_count": 14,
   "metadata": {},
   "outputs": [
    {
     "name": "stdout",
     "output_type": "stream",
     "text": [
      "abbb :- Invalid String!\n",
      "100 :- Not-Accepted\n",
      "101 :- Accepted\n",
      "0101 :- Accepted\n",
      "0 :- Not-Accepted\n",
      "00 :- Accepted\n",
      "01 :- Not-Accepted\n",
      "10 :- Not-Accepted\n",
      "1 :- Not-Accepted\n",
      "10001 :- Accepted\n",
      "010001 :- Accepted\n",
      "10101 :- Accepted\n",
      "10110 :- Accepted\n",
      "001 :- Accepted\n",
      "010 :- Accepted\n"
     ]
    }
   ],
   "source": [
    "for string in strings_01[\"String\"]:\n",
    "    flag = dfa[1].perform_transitions(string)\n",
    "    if flag == -1:\n",
    "        print(string,\":- Invalid String!\")\n",
    "    elif flag == 0:\n",
    "        True\n",
    "        print(string,\":- Not-Accepted\")\n",
    "    else:\n",
    "        print(string,\":- Accepted\")"
   ]
  },
  {
   "cell_type": "markdown",
   "metadata": {},
   "source": [
    "< Check Strings DFA-3>"
   ]
  },
  {
   "cell_type": "code",
   "execution_count": 16,
   "metadata": {},
   "outputs": [
    {
     "name": "stdout",
     "output_type": "stream",
     "text": [
      "abc :- Not-Accepted\n",
      "abbc :- Not-Accepted\n",
      "abcbca :- Not-Accepted\n",
      "aabcba :- Not-Accepted\n",
      "a :- Accepted\n",
      "b :- Accepted\n",
      "c :- Not-Accepted\n",
      "ca :- Not-Accepted\n",
      "ba :- Not-Accepted\n",
      "abcaaa :- Not-Accepted\n",
      "abbcab :- Not-Accepted\n",
      "010111 :- Invalid String!\n",
      "cbaabc :- Not-Accepted\n",
      "ca :- Not-Accepted\n",
      "cb :- Accepted\n",
      "cc :- Accepted\n"
     ]
    }
   ],
   "source": [
    "for string in strings_abc[\"String\"]:\n",
    "    flag = dfa[2].perform_transitions(string)\n",
    "    if flag == -1:\n",
    "        print(string,\":- Invalid String!\")\n",
    "    elif flag == 0:\n",
    "        True\n",
    "        print(string,\":- Not-Accepted\")\n",
    "    else:\n",
    "        print(string,\":- Accepted\")"
   ]
  },
  {
   "cell_type": "code",
   "execution_count": null,
   "metadata": {},
   "outputs": [],
   "source": []
  }
 ],
 "metadata": {
  "kernelspec": {
   "display_name": "Python 3.10.8 64-bit",
   "language": "python",
   "name": "python3"
  },
  "language_info": {
   "codemirror_mode": {
    "name": "ipython",
    "version": 3
   },
   "file_extension": ".py",
   "mimetype": "text/x-python",
   "name": "python",
   "nbconvert_exporter": "python",
   "pygments_lexer": "ipython3",
   "version": "3.10.8"
  },
  "orig_nbformat": 4,
  "vscode": {
   "interpreter": {
    "hash": "d8faed0dc9b748b31434cdf6cc95ada40426c934059699ce7536d3093cda84de"
   }
  }
 },
 "nbformat": 4,
 "nbformat_minor": 2
}
