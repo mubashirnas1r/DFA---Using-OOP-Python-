{
  "cells": [
    {
      "cell_type": "markdown",
      "metadata": {
        "id": "Bx9Le63Wsqop"
      },
      "source": [
        "#Importing Required Libraries"
      ]
    },
    {
      "cell_type": "code",
      "execution_count": 29,
      "metadata": {
        "id": "fIlwh6bQsqou"
      },
      "outputs": [],
      "source": [
        "import pandas as pd"
      ]
    },
    {
      "cell_type": "markdown",
      "metadata": {
        "id": "WKITDnlDsqow"
      },
      "source": [
        "#DFA-Implementation"
      ]
    },
    {
      "cell_type": "code",
      "execution_count": 30,
      "metadata": {
        "id": "5I8lFeCNsqow"
      },
      "outputs": [],
      "source": [
        "class DFA():\n",
        "    alphabets = []\n",
        "    states = []\n",
        "    intial_state = \"\"\n",
        "    final_states = []\n",
        "    transition_table = 0\n",
        "    \n",
        "    \n",
        "    def __init__(self,states = [],alp = [],transition = 0,intial = \"a\", final = []):\n",
        "        self.states = states\n",
        "        self.alphabets  = alp\n",
        "        self.intial_state = intial\n",
        "        self.final_states = final \n",
        "        self.transition_table = transition\n",
        "    \n",
        "    def display(self):\n",
        "        print(\"alphabets:\",self.alphabets)\n",
        "        print(\"finite states:\",self.states)\n",
        "        print(\"intial state:\",self.intial_state)\n",
        "        print(\"final states:\",self.final_states)\n",
        "        print(\"transition tabel:\\n\",self.transition_table)\n",
        "    \n",
        "    def perform_transitions(self,string = \"10\"):\n",
        "        current_state = self.intial_state\n",
        "        for element in string:\n",
        "            if element not in self.alphabets:\n",
        "                return -1\n",
        "            current_state = self.transition_table.at[list(self.transition_table[\"State\"]).index(current_state),element]\n",
        "        if current_state in self.final_states:\n",
        "            return 1\n",
        "        else:\n",
        "            return 0\n",
        "        "
      ]
    },
    {
      "cell_type": "markdown",
      "metadata": {
        "id": "TL3UY3R0sqoy"
      },
      "source": [
        "Creating Transition Tables for all DFA's"
      ]
    },
    {
      "cell_type": "code",
      "execution_count": 31,
      "metadata": {
        "id": "tjExOmajsqoy"
      },
      "outputs": [],
      "source": [
        "\n",
        "data={'State':['q0','q1','q2','q3'],'0':['q1','q0','q3','q2'],'1':['q3','q2','q1','q0']}\n",
        "transition_table1=pd.DataFrame(data,index=None)\n",
        "transition_table1 \n",
        "\n",
        "data={'State':['q0','q1','q2','q3','q4'],'0':['q3','q1','q2','q4','q4'],'1':['q1','q2','q2','q3','q4']}\n",
        "transition_table2=pd.DataFrame(data,index=None)\n",
        "transition_table2\n",
        "\n",
        "data={'State':['q0','q1','q2','q3'],'a':['q2','q3','q3','q3'],'b':['q2','q2','q3','q3'],'c':['q1','q2','q3','q3']}\n",
        "transition_table3=pd.DataFrame(data,index=None)"
      ]
    },
    {
      "cell_type": "code",
      "execution_count": 32,
      "metadata": {
        "colab": {
          "base_uri": "https://localhost:8080/",
          "height": 175
        },
        "id": "KN2dNItIsqo0",
        "outputId": "38c3d11d-ca80-4948-c0a7-75374dbc1034"
      },
      "outputs": [
        {
          "output_type": "execute_result",
          "data": {
            "text/plain": [
              "  State   0   1\n",
              "0    q0  q1  q3\n",
              "1    q1  q0  q2\n",
              "2    q2  q3  q1\n",
              "3    q3  q2  q0"
            ],
            "text/html": [
              "\n",
              "  <div id=\"df-5d2bd75b-43ff-4bbd-830e-bca03847dc8b\">\n",
              "    <div class=\"colab-df-container\">\n",
              "      <div>\n",
              "<style scoped>\n",
              "    .dataframe tbody tr th:only-of-type {\n",
              "        vertical-align: middle;\n",
              "    }\n",
              "\n",
              "    .dataframe tbody tr th {\n",
              "        vertical-align: top;\n",
              "    }\n",
              "\n",
              "    .dataframe thead th {\n",
              "        text-align: right;\n",
              "    }\n",
              "</style>\n",
              "<table border=\"1\" class=\"dataframe\">\n",
              "  <thead>\n",
              "    <tr style=\"text-align: right;\">\n",
              "      <th></th>\n",
              "      <th>State</th>\n",
              "      <th>0</th>\n",
              "      <th>1</th>\n",
              "    </tr>\n",
              "  </thead>\n",
              "  <tbody>\n",
              "    <tr>\n",
              "      <th>0</th>\n",
              "      <td>q0</td>\n",
              "      <td>q1</td>\n",
              "      <td>q3</td>\n",
              "    </tr>\n",
              "    <tr>\n",
              "      <th>1</th>\n",
              "      <td>q1</td>\n",
              "      <td>q0</td>\n",
              "      <td>q2</td>\n",
              "    </tr>\n",
              "    <tr>\n",
              "      <th>2</th>\n",
              "      <td>q2</td>\n",
              "      <td>q3</td>\n",
              "      <td>q1</td>\n",
              "    </tr>\n",
              "    <tr>\n",
              "      <th>3</th>\n",
              "      <td>q3</td>\n",
              "      <td>q2</td>\n",
              "      <td>q0</td>\n",
              "    </tr>\n",
              "  </tbody>\n",
              "</table>\n",
              "</div>\n",
              "      <button class=\"colab-df-convert\" onclick=\"convertToInteractive('df-5d2bd75b-43ff-4bbd-830e-bca03847dc8b')\"\n",
              "              title=\"Convert this dataframe to an interactive table.\"\n",
              "              style=\"display:none;\">\n",
              "        \n",
              "  <svg xmlns=\"http://www.w3.org/2000/svg\" height=\"24px\"viewBox=\"0 0 24 24\"\n",
              "       width=\"24px\">\n",
              "    <path d=\"M0 0h24v24H0V0z\" fill=\"none\"/>\n",
              "    <path d=\"M18.56 5.44l.94 2.06.94-2.06 2.06-.94-2.06-.94-.94-2.06-.94 2.06-2.06.94zm-11 1L8.5 8.5l.94-2.06 2.06-.94-2.06-.94L8.5 2.5l-.94 2.06-2.06.94zm10 10l.94 2.06.94-2.06 2.06-.94-2.06-.94-.94-2.06-.94 2.06-2.06.94z\"/><path d=\"M17.41 7.96l-1.37-1.37c-.4-.4-.92-.59-1.43-.59-.52 0-1.04.2-1.43.59L10.3 9.45l-7.72 7.72c-.78.78-.78 2.05 0 2.83L4 21.41c.39.39.9.59 1.41.59.51 0 1.02-.2 1.41-.59l7.78-7.78 2.81-2.81c.8-.78.8-2.07 0-2.86zM5.41 20L4 18.59l7.72-7.72 1.47 1.35L5.41 20z\"/>\n",
              "  </svg>\n",
              "      </button>\n",
              "      \n",
              "  <style>\n",
              "    .colab-df-container {\n",
              "      display:flex;\n",
              "      flex-wrap:wrap;\n",
              "      gap: 12px;\n",
              "    }\n",
              "\n",
              "    .colab-df-convert {\n",
              "      background-color: #E8F0FE;\n",
              "      border: none;\n",
              "      border-radius: 50%;\n",
              "      cursor: pointer;\n",
              "      display: none;\n",
              "      fill: #1967D2;\n",
              "      height: 32px;\n",
              "      padding: 0 0 0 0;\n",
              "      width: 32px;\n",
              "    }\n",
              "\n",
              "    .colab-df-convert:hover {\n",
              "      background-color: #E2EBFA;\n",
              "      box-shadow: 0px 1px 2px rgba(60, 64, 67, 0.3), 0px 1px 3px 1px rgba(60, 64, 67, 0.15);\n",
              "      fill: #174EA6;\n",
              "    }\n",
              "\n",
              "    [theme=dark] .colab-df-convert {\n",
              "      background-color: #3B4455;\n",
              "      fill: #D2E3FC;\n",
              "    }\n",
              "\n",
              "    [theme=dark] .colab-df-convert:hover {\n",
              "      background-color: #434B5C;\n",
              "      box-shadow: 0px 1px 3px 1px rgba(0, 0, 0, 0.15);\n",
              "      filter: drop-shadow(0px 1px 2px rgba(0, 0, 0, 0.3));\n",
              "      fill: #FFFFFF;\n",
              "    }\n",
              "  </style>\n",
              "\n",
              "      <script>\n",
              "        const buttonEl =\n",
              "          document.querySelector('#df-5d2bd75b-43ff-4bbd-830e-bca03847dc8b button.colab-df-convert');\n",
              "        buttonEl.style.display =\n",
              "          google.colab.kernel.accessAllowed ? 'block' : 'none';\n",
              "\n",
              "        async function convertToInteractive(key) {\n",
              "          const element = document.querySelector('#df-5d2bd75b-43ff-4bbd-830e-bca03847dc8b');\n",
              "          const dataTable =\n",
              "            await google.colab.kernel.invokeFunction('convertToInteractive',\n",
              "                                                     [key], {});\n",
              "          if (!dataTable) return;\n",
              "\n",
              "          const docLinkHtml = 'Like what you see? Visit the ' +\n",
              "            '<a target=\"_blank\" href=https://colab.research.google.com/notebooks/data_table.ipynb>data table notebook</a>'\n",
              "            + ' to learn more about interactive tables.';\n",
              "          element.innerHTML = '';\n",
              "          dataTable['output_type'] = 'display_data';\n",
              "          await google.colab.output.renderOutput(dataTable, element);\n",
              "          const docLink = document.createElement('div');\n",
              "          docLink.innerHTML = docLinkHtml;\n",
              "          element.appendChild(docLink);\n",
              "        }\n",
              "      </script>\n",
              "    </div>\n",
              "  </div>\n",
              "  "
            ]
          },
          "metadata": {},
          "execution_count": 32
        }
      ],
      "source": [
        "transition_table1"
      ]
    },
    {
      "cell_type": "code",
      "execution_count": 33,
      "metadata": {
        "colab": {
          "base_uri": "https://localhost:8080/",
          "height": 206
        },
        "id": "emlZ1Xg-sqo2",
        "outputId": "2309de8b-0e49-412d-9afa-15ece6c95e5a"
      },
      "outputs": [
        {
          "output_type": "execute_result",
          "data": {
            "text/plain": [
              "  State   0   1\n",
              "0    q0  q3  q1\n",
              "1    q1  q1  q2\n",
              "2    q2  q2  q2\n",
              "3    q3  q4  q3\n",
              "4    q4  q4  q4"
            ],
            "text/html": [
              "\n",
              "  <div id=\"df-64904f8a-c085-40c4-bbd0-3a3da1ebf332\">\n",
              "    <div class=\"colab-df-container\">\n",
              "      <div>\n",
              "<style scoped>\n",
              "    .dataframe tbody tr th:only-of-type {\n",
              "        vertical-align: middle;\n",
              "    }\n",
              "\n",
              "    .dataframe tbody tr th {\n",
              "        vertical-align: top;\n",
              "    }\n",
              "\n",
              "    .dataframe thead th {\n",
              "        text-align: right;\n",
              "    }\n",
              "</style>\n",
              "<table border=\"1\" class=\"dataframe\">\n",
              "  <thead>\n",
              "    <tr style=\"text-align: right;\">\n",
              "      <th></th>\n",
              "      <th>State</th>\n",
              "      <th>0</th>\n",
              "      <th>1</th>\n",
              "    </tr>\n",
              "  </thead>\n",
              "  <tbody>\n",
              "    <tr>\n",
              "      <th>0</th>\n",
              "      <td>q0</td>\n",
              "      <td>q3</td>\n",
              "      <td>q1</td>\n",
              "    </tr>\n",
              "    <tr>\n",
              "      <th>1</th>\n",
              "      <td>q1</td>\n",
              "      <td>q1</td>\n",
              "      <td>q2</td>\n",
              "    </tr>\n",
              "    <tr>\n",
              "      <th>2</th>\n",
              "      <td>q2</td>\n",
              "      <td>q2</td>\n",
              "      <td>q2</td>\n",
              "    </tr>\n",
              "    <tr>\n",
              "      <th>3</th>\n",
              "      <td>q3</td>\n",
              "      <td>q4</td>\n",
              "      <td>q3</td>\n",
              "    </tr>\n",
              "    <tr>\n",
              "      <th>4</th>\n",
              "      <td>q4</td>\n",
              "      <td>q4</td>\n",
              "      <td>q4</td>\n",
              "    </tr>\n",
              "  </tbody>\n",
              "</table>\n",
              "</div>\n",
              "      <button class=\"colab-df-convert\" onclick=\"convertToInteractive('df-64904f8a-c085-40c4-bbd0-3a3da1ebf332')\"\n",
              "              title=\"Convert this dataframe to an interactive table.\"\n",
              "              style=\"display:none;\">\n",
              "        \n",
              "  <svg xmlns=\"http://www.w3.org/2000/svg\" height=\"24px\"viewBox=\"0 0 24 24\"\n",
              "       width=\"24px\">\n",
              "    <path d=\"M0 0h24v24H0V0z\" fill=\"none\"/>\n",
              "    <path d=\"M18.56 5.44l.94 2.06.94-2.06 2.06-.94-2.06-.94-.94-2.06-.94 2.06-2.06.94zm-11 1L8.5 8.5l.94-2.06 2.06-.94-2.06-.94L8.5 2.5l-.94 2.06-2.06.94zm10 10l.94 2.06.94-2.06 2.06-.94-2.06-.94-.94-2.06-.94 2.06-2.06.94z\"/><path d=\"M17.41 7.96l-1.37-1.37c-.4-.4-.92-.59-1.43-.59-.52 0-1.04.2-1.43.59L10.3 9.45l-7.72 7.72c-.78.78-.78 2.05 0 2.83L4 21.41c.39.39.9.59 1.41.59.51 0 1.02-.2 1.41-.59l7.78-7.78 2.81-2.81c.8-.78.8-2.07 0-2.86zM5.41 20L4 18.59l7.72-7.72 1.47 1.35L5.41 20z\"/>\n",
              "  </svg>\n",
              "      </button>\n",
              "      \n",
              "  <style>\n",
              "    .colab-df-container {\n",
              "      display:flex;\n",
              "      flex-wrap:wrap;\n",
              "      gap: 12px;\n",
              "    }\n",
              "\n",
              "    .colab-df-convert {\n",
              "      background-color: #E8F0FE;\n",
              "      border: none;\n",
              "      border-radius: 50%;\n",
              "      cursor: pointer;\n",
              "      display: none;\n",
              "      fill: #1967D2;\n",
              "      height: 32px;\n",
              "      padding: 0 0 0 0;\n",
              "      width: 32px;\n",
              "    }\n",
              "\n",
              "    .colab-df-convert:hover {\n",
              "      background-color: #E2EBFA;\n",
              "      box-shadow: 0px 1px 2px rgba(60, 64, 67, 0.3), 0px 1px 3px 1px rgba(60, 64, 67, 0.15);\n",
              "      fill: #174EA6;\n",
              "    }\n",
              "\n",
              "    [theme=dark] .colab-df-convert {\n",
              "      background-color: #3B4455;\n",
              "      fill: #D2E3FC;\n",
              "    }\n",
              "\n",
              "    [theme=dark] .colab-df-convert:hover {\n",
              "      background-color: #434B5C;\n",
              "      box-shadow: 0px 1px 3px 1px rgba(0, 0, 0, 0.15);\n",
              "      filter: drop-shadow(0px 1px 2px rgba(0, 0, 0, 0.3));\n",
              "      fill: #FFFFFF;\n",
              "    }\n",
              "  </style>\n",
              "\n",
              "      <script>\n",
              "        const buttonEl =\n",
              "          document.querySelector('#df-64904f8a-c085-40c4-bbd0-3a3da1ebf332 button.colab-df-convert');\n",
              "        buttonEl.style.display =\n",
              "          google.colab.kernel.accessAllowed ? 'block' : 'none';\n",
              "\n",
              "        async function convertToInteractive(key) {\n",
              "          const element = document.querySelector('#df-64904f8a-c085-40c4-bbd0-3a3da1ebf332');\n",
              "          const dataTable =\n",
              "            await google.colab.kernel.invokeFunction('convertToInteractive',\n",
              "                                                     [key], {});\n",
              "          if (!dataTable) return;\n",
              "\n",
              "          const docLinkHtml = 'Like what you see? Visit the ' +\n",
              "            '<a target=\"_blank\" href=https://colab.research.google.com/notebooks/data_table.ipynb>data table notebook</a>'\n",
              "            + ' to learn more about interactive tables.';\n",
              "          element.innerHTML = '';\n",
              "          dataTable['output_type'] = 'display_data';\n",
              "          await google.colab.output.renderOutput(dataTable, element);\n",
              "          const docLink = document.createElement('div');\n",
              "          docLink.innerHTML = docLinkHtml;\n",
              "          element.appendChild(docLink);\n",
              "        }\n",
              "      </script>\n",
              "    </div>\n",
              "  </div>\n",
              "  "
            ]
          },
          "metadata": {},
          "execution_count": 33
        }
      ],
      "source": [
        "transition_table2"
      ]
    },
    {
      "cell_type": "code",
      "execution_count": 34,
      "metadata": {
        "colab": {
          "base_uri": "https://localhost:8080/",
          "height": 175
        },
        "id": "2AKHZKQPsqo3",
        "outputId": "d9c1d89f-c572-4c10-e156-e1960d516597"
      },
      "outputs": [
        {
          "output_type": "execute_result",
          "data": {
            "text/plain": [
              "  State   a   b   c\n",
              "0    q0  q2  q2  q1\n",
              "1    q1  q3  q2  q2\n",
              "2    q2  q3  q3  q3\n",
              "3    q3  q3  q3  q3"
            ],
            "text/html": [
              "\n",
              "  <div id=\"df-52a2e167-48fb-44e9-8eb5-e93274f2e6a4\">\n",
              "    <div class=\"colab-df-container\">\n",
              "      <div>\n",
              "<style scoped>\n",
              "    .dataframe tbody tr th:only-of-type {\n",
              "        vertical-align: middle;\n",
              "    }\n",
              "\n",
              "    .dataframe tbody tr th {\n",
              "        vertical-align: top;\n",
              "    }\n",
              "\n",
              "    .dataframe thead th {\n",
              "        text-align: right;\n",
              "    }\n",
              "</style>\n",
              "<table border=\"1\" class=\"dataframe\">\n",
              "  <thead>\n",
              "    <tr style=\"text-align: right;\">\n",
              "      <th></th>\n",
              "      <th>State</th>\n",
              "      <th>a</th>\n",
              "      <th>b</th>\n",
              "      <th>c</th>\n",
              "    </tr>\n",
              "  </thead>\n",
              "  <tbody>\n",
              "    <tr>\n",
              "      <th>0</th>\n",
              "      <td>q0</td>\n",
              "      <td>q2</td>\n",
              "      <td>q2</td>\n",
              "      <td>q1</td>\n",
              "    </tr>\n",
              "    <tr>\n",
              "      <th>1</th>\n",
              "      <td>q1</td>\n",
              "      <td>q3</td>\n",
              "      <td>q2</td>\n",
              "      <td>q2</td>\n",
              "    </tr>\n",
              "    <tr>\n",
              "      <th>2</th>\n",
              "      <td>q2</td>\n",
              "      <td>q3</td>\n",
              "      <td>q3</td>\n",
              "      <td>q3</td>\n",
              "    </tr>\n",
              "    <tr>\n",
              "      <th>3</th>\n",
              "      <td>q3</td>\n",
              "      <td>q3</td>\n",
              "      <td>q3</td>\n",
              "      <td>q3</td>\n",
              "    </tr>\n",
              "  </tbody>\n",
              "</table>\n",
              "</div>\n",
              "      <button class=\"colab-df-convert\" onclick=\"convertToInteractive('df-52a2e167-48fb-44e9-8eb5-e93274f2e6a4')\"\n",
              "              title=\"Convert this dataframe to an interactive table.\"\n",
              "              style=\"display:none;\">\n",
              "        \n",
              "  <svg xmlns=\"http://www.w3.org/2000/svg\" height=\"24px\"viewBox=\"0 0 24 24\"\n",
              "       width=\"24px\">\n",
              "    <path d=\"M0 0h24v24H0V0z\" fill=\"none\"/>\n",
              "    <path d=\"M18.56 5.44l.94 2.06.94-2.06 2.06-.94-2.06-.94-.94-2.06-.94 2.06-2.06.94zm-11 1L8.5 8.5l.94-2.06 2.06-.94-2.06-.94L8.5 2.5l-.94 2.06-2.06.94zm10 10l.94 2.06.94-2.06 2.06-.94-2.06-.94-.94-2.06-.94 2.06-2.06.94z\"/><path d=\"M17.41 7.96l-1.37-1.37c-.4-.4-.92-.59-1.43-.59-.52 0-1.04.2-1.43.59L10.3 9.45l-7.72 7.72c-.78.78-.78 2.05 0 2.83L4 21.41c.39.39.9.59 1.41.59.51 0 1.02-.2 1.41-.59l7.78-7.78 2.81-2.81c.8-.78.8-2.07 0-2.86zM5.41 20L4 18.59l7.72-7.72 1.47 1.35L5.41 20z\"/>\n",
              "  </svg>\n",
              "      </button>\n",
              "      \n",
              "  <style>\n",
              "    .colab-df-container {\n",
              "      display:flex;\n",
              "      flex-wrap:wrap;\n",
              "      gap: 12px;\n",
              "    }\n",
              "\n",
              "    .colab-df-convert {\n",
              "      background-color: #E8F0FE;\n",
              "      border: none;\n",
              "      border-radius: 50%;\n",
              "      cursor: pointer;\n",
              "      display: none;\n",
              "      fill: #1967D2;\n",
              "      height: 32px;\n",
              "      padding: 0 0 0 0;\n",
              "      width: 32px;\n",
              "    }\n",
              "\n",
              "    .colab-df-convert:hover {\n",
              "      background-color: #E2EBFA;\n",
              "      box-shadow: 0px 1px 2px rgba(60, 64, 67, 0.3), 0px 1px 3px 1px rgba(60, 64, 67, 0.15);\n",
              "      fill: #174EA6;\n",
              "    }\n",
              "\n",
              "    [theme=dark] .colab-df-convert {\n",
              "      background-color: #3B4455;\n",
              "      fill: #D2E3FC;\n",
              "    }\n",
              "\n",
              "    [theme=dark] .colab-df-convert:hover {\n",
              "      background-color: #434B5C;\n",
              "      box-shadow: 0px 1px 3px 1px rgba(0, 0, 0, 0.15);\n",
              "      filter: drop-shadow(0px 1px 2px rgba(0, 0, 0, 0.3));\n",
              "      fill: #FFFFFF;\n",
              "    }\n",
              "  </style>\n",
              "\n",
              "      <script>\n",
              "        const buttonEl =\n",
              "          document.querySelector('#df-52a2e167-48fb-44e9-8eb5-e93274f2e6a4 button.colab-df-convert');\n",
              "        buttonEl.style.display =\n",
              "          google.colab.kernel.accessAllowed ? 'block' : 'none';\n",
              "\n",
              "        async function convertToInteractive(key) {\n",
              "          const element = document.querySelector('#df-52a2e167-48fb-44e9-8eb5-e93274f2e6a4');\n",
              "          const dataTable =\n",
              "            await google.colab.kernel.invokeFunction('convertToInteractive',\n",
              "                                                     [key], {});\n",
              "          if (!dataTable) return;\n",
              "\n",
              "          const docLinkHtml = 'Like what you see? Visit the ' +\n",
              "            '<a target=\"_blank\" href=https://colab.research.google.com/notebooks/data_table.ipynb>data table notebook</a>'\n",
              "            + ' to learn more about interactive tables.';\n",
              "          element.innerHTML = '';\n",
              "          dataTable['output_type'] = 'display_data';\n",
              "          await google.colab.output.renderOutput(dataTable, element);\n",
              "          const docLink = document.createElement('div');\n",
              "          docLink.innerHTML = docLinkHtml;\n",
              "          element.appendChild(docLink);\n",
              "        }\n",
              "      </script>\n",
              "    </div>\n",
              "  </div>\n",
              "  "
            ]
          },
          "metadata": {},
          "execution_count": 34
        }
      ],
      "source": [
        "transition_table3"
      ]
    },
    {
      "cell_type": "markdown",
      "metadata": {
        "id": "IuIiu8PAsqo4"
      },
      "source": [
        "< DFA - Parameters >"
      ]
    },
    {
      "cell_type": "code",
      "execution_count": 35,
      "metadata": {
        "id": "eusMMCHTsqo4"
      },
      "outputs": [],
      "source": [
        "dfa = list()"
      ]
    },
    {
      "cell_type": "markdown",
      "source": [
        "#DFA-1"
      ],
      "metadata": {
        "id": "DPxsiGN9uBxI"
      }
    },
    {
      "cell_type": "markdown",
      "metadata": {
        "id": "5mK2cdNVsqo5"
      },
      "source": [
        "![DFA_1.png](data:image/png;base64,iVBORw0KGgoAAAANSUhEUgAAAq0AAAGICAIAAADkt07kAAAAAXNSR0IArs4c6QAAAARnQU1BAACxjwv8YQUAAAAJcEhZcwAADsMAAA7DAcdvqGQAAKVpSURBVHhe7Z11nFVV+7fBwMZ4VIzHFgVURAUFAQMklJASRKRBpBukQ5CUlEaQRrq7u7uboWEYYEif+L3vNed7WM+eM8MIChOc+/pjf1bttdde+973/V377HNOov9nGIZhGEawYjrAMAzDMIIX0wGGYRiGEbyYDjAMwzCM4MV0gGEYhmEEL6YDDMMwDCN4MR1gGIZhGMGL6QDDMAzDCF5MBxiGYRhG8GI6wDAMwzCCF9MBhmEYhhG8mA4wDMMwjODFdIBhGIZhBC+mAwzDMAwjeDEdYBiGYRjBi+kAwzAMwwheTAcYhmEYRvBiOsAwDMMwghfTAYZhGIYRvJgOMAzDMIzgxXSAYSRg/vjjD3/q//2///znP//3f/9H4r///S8JbVUlaOBPGYZhXMV0gGEkeP71r39duXIlIOoDUoAq+Pe//+0vMgzDiIzpAMNIwBDgCfb+jO/xwMWLFy/4IPz7S33QzNvSMAxDmA4wjISNN8BHfSQA0RYahmEI0wGGkbD5z3/+c+XKFScFSJD94yr//ve/TQcYhhEDpgMMIwFDyPenfOv+GEI+VU4rGIZhOEwHGEYCxoX2f/leFVT6P//5z+XLl71VAe8KGIZhOEwHGEaCx4X88+fPjx8/vmLFikWKFGnduvXSpUspUZU9DzAMI1pMBxhGgufixYtsL1++XLdu3WTJkqVKlSpdunRPPvlkihQppk6dSlV4eDhbeypgGEZUTAcYRgKGJb77bYAePXrce++9xYoVO3PmzB9//DFmzJgXXngBKbB582Y1uHTpkhKGYRgO0wGGkYDRi4FIgU2bNn344YdE/bVr16qKwtq1a99///39+/e/cuWKiQDDMKLFdIBhJHjOnz8/ZcoUVv8lSpS4ePHiuXPn9FrA9OnTX3vttQIFCri3BAzDMAIwHWAYCZv//Oc/f/zxR9++fZMmTdq6dWv3McF///vf1atXZ8iQ4YknntCbAXpLwDAMw4vpAMNI8Fy4cKFSpUqJEiWaMWMGWZQBJeiAPXv25MqVi3J7HmAYxrUwHWAYCZsrV66cPn26WrVqxPvp06fruwNi586dn3zyCeWhoaHecsMwDIfpAMNIwPzf//3fv//971OnTlWtWpV4v3jxYgopUfmePXuyZ8+eJEmSsLAw+9NhwzCixXSAYSRg9DbAhQsXmjdv/uCDD44cOfKPP/6ghC2Bf/fu3ZkyZXr99dftywKGYVwL0wGGkbC54gMFcM8999SqVetf//qXW/ovXLgwVapUuXPnPn78uD0PMAwjWkwHGEYCRqt/WLRo0fPPP0/IP336tL4dcOnSpbZt2z7yyCMtWrQ4d+4cJfqxAcMwDC+mAwwjAeN+Kjg0NLRChQoPP/wwsZ8sq/8NGzbkz58/derUCxcuVDMnGgzDMBymAwwjwcNCH+bPn//BBx8888wzZcqUadasWZ48eZImTVq1atXLly+rmf3PkGEYUTEdYBgJGBfaCfbnz59ftmwZIiB58uQPPfRQ/vz5e/TooWcAVF26dMk+FzAMIyqmAwwjYRPwtP/06dOnTp06d+4cEuFf//rXlStXzpw5468zDMOIgukAw0jAaIlPvHcPBpwscB8HiICsYRiGMB1g3BwCnjkHfBQd8fG1j//85z/6lRuV08ylb0tu9OyuNSHM2w11FdCYLNMOqATvpbnR4UULnQDdens2DCOhYDrA+FsoBjj8pdcdYIhMwfm9dk0XKHwC8+DwF/mgjX8fH8yYfjCABLX+0uhgR9pc9kHCX3oV17nwZpXWSFQSFX8vhmEkfEwHGDcZFyfYKqIoKwgtLEmBhL8oaPBNTAT+/I3AdAXMZMwEtCRLD1IDStObqv4+dOi7zhHSwV9kGEbCwXSA8bcgov/rX/+Kdm0aNd4EBCdBYdTV6u0HpymU5ZS9MFFCbRRTI0KrL0ED7RUAtf5UFNStw7VUlj6VFToEW0FjN86IEVxFYxOqNQzjNsB0gHGTIUgQM/yZyFDlDzVRgo0Stx8RMdODv/QvwaRduXLl8uXLepqi3tRtVLSLgxmWAvDnfahQ18JfdB2of8Sf9J+7lOBvYRhGgsJ0gPG38AYDIEHWFRIbVA5R40QwRI5oz52sm7Fop0W1/rxPAfhTkWGe/akoqGcgoQvhr7gK5Vwj71HAtXe7R8XfNDKqCujNMIwEgekA4yZADGCRev78+dDQ0KNHj4aEhGzbtm3Hjh27du1iS3rnzp0HDx48fvz4sWPHLly44N/NB8EjhniW0GFm/CkfZKWT/HkfzIAKI96b+OOPixcvnj17Vj8DwIwdOnRo//79+/bt2717tyZz06ZNq1atmj9//vTp00dfgzZt2rRs2bJRo0Y//PBD06ZNO3bsOGDAAMpHjRr1+1VIjxkzZsKECZMmTaJnwZXiQByRi3j48OETJ04wjLCwMC7ulStXnCKRzrPAbxi3AaYDjL8F8YCItWXLlsmTJ//8888VK1bMnTt35syZ06dPnzFjxkyZMmXIkOH9998nkTNnzoIFC9apU+eXX36ZO3funj17iHbBFkg4XyL9pUuXUEV79+4lqK9Zs2bRokUzZ84kGI8bN65///49evQgbLdu3bpZs2b169evVq1ahQoVvv/+++LFi+fLl++LL7748ssvixYtWrZsWWa74TWgEwI/wX7s2LHDhg0jiyyoV68eykA08YFKqFGjBv3kyZMnb968+fPn/+qrr4oVK1amTBmOWKVKFVoyjJ9++qlLly59+/YdMmQIYmL8+PFLly5duXLlhg0b0A0oFWwAeYdQ8J+nYRgJB9MBRiD6r3qWp3LrCtVEL7beJ8ksB1kyEhXq1q1LjCf8V61atXPnzgSJ5cuXEx6I9LDLB0KB9evIkSMJb5UqVcqRIwfBjDUrgoBFpzpkxcmWQ1z2/eKNtjeRiCfXntW5luZKcFIBVe5ZumrdWUeL29fbDxPIGbGw5twXL15MjO/Xrx9SqVWrVkTWBg0asExv0aIFwZgJrFmzJgqJQiawe/fuAwcOpP2sWbPYcd26dUwmK/WjR496A6070E2Eq4w440DSKJs2beKqoVEYDENibM2bN2ecSBPGjEZhwI0bN+Z0EBlcWeQCzTAJ9uKsjx07dvHiRY3TPUhwuHI3t5SoEFx7huTO2tX+fdSnDAA0Bvp3j2poIJsHmrnxOMMQ3jSduGbupEh4+1HCMOIVpgOMSOCznCuUj8MhyqnJdcrTES26du36zTffsDwlMLDoJFYR9gJcpByooFugq1OnTq1du3bw4MHly5f/+OOPWYxOnTpV7WmgHqQJvL39TTguvQEJBhNtzxQyYJ2ssi6NNnK6hHKdi7cxA0bQsLhnWd+7d29CI4v4r7/+Gm1EjCdkEvIRASyphw4dyjKdU543b97q1au3b99+8ODB0NBQFy28uKFS6x3ztU7hJkL/wIE0df7Sq3ARjxw5snv3bi4lUX/ixIkjRowYNGhQ+/bt27Vrx8lWr169lI8aNWowG1jInDlzNm/efOLECQxJHUbtFjgiJ+sNvcBs61cQ3IQLshRS68/fCLJnjcF7LI7uvaySxcCBtAvQhvFoL3rw7gKoH7YXLlwIwideRkLEdIARCecQnf9SCYHKpXH9rP6zZ8/Ogp40y0evQ5dbJBHVawvKFVZPnjxJLCROpEiRokyZMoRDNZAIgGjjxN+B8bshaRiA12Yw3qGSppYEA3CuH2jsT/m8PMtlgh8xr3LlylmzZkUSIYyI+h07dhw+fDjLaFbzLItRSAcOHOBkOS91GwMckaO7E/emHRSCP3OTYGY0Odeac8qFjq72wBl5IcxjD1zKHTt2oIrmzp07btw4pE+TJk0QfPny5cuWLdtXX33VuHFjxNCyZcuYfPaif7ZMrxNbQOcuvmoLGgCNXclfRu+pcBS2dOsr82eV0MCAY3kH5sWNnx584jCShhakORHXm2HEN0wHGNGA2wKXVkIumNifNGnSQoUKbd261euLSe/du3fgwIEsATNmzPj4448//fTTzz777GOPPXb//fc/88wzhEmWxVOmTHHxXp4Rd0w8yJkz5zvvvLNixQqtpSAsLEyJm4IG77y8w1vCmRKqAxaXDFI+neXvwoULWe+WKFHizTfffP755zNlylSlSpWuXbsOHjz40KFDNCAKnj59Ojw83C15OSgJQZreOAq1JBQ2SDAGqiDq8ByqZUs//qJbg8apw0Udj+88Ihr489eANv6U7/OdU6dOsSXMsz7et2/fnDlzkErFihXDTpjGdOnSlS1b9rfffkM6MDN0Tkt3aGd+cO7cOX/qKhyIXZxwvH6YeZ2F658jqsQlgAQNKHHNEL5t27bNkyfPK6+8gmE/9dRTGPk///lPrP3111/nvujZs+fKlSvZhSvr+hHupAwjXmE6wAgE34qXVFpBS259165drNpxdv3791ctbu7MmTMEv/Hjx+fOnfvhhx/GORImf/rpp9mzZ+PuFyxYQGhfvXr1pEmTWALmypVL4oB+li9fTmygf9wlXe3fv79Ro0ZEBcLq8ePHvWO4KTiPjC9GaoDX1zMSRSBlGRWhC6Eza9asXr16oWxSp07NqaVNm7ZBgwas9QlmmpOovl5QyIFAza4HdvGeMjtSoq2mKACqoi2/uegsop4jUyQRE1ClEqCWKXVnxGjVVcCEoJm2b9+OfPzmm29SpEjx2muvYUi1atXCfg4cOEBjQBZ4Z4bOObqMJ6C360dyk27dMx7GpgT9M3Lv3HKU0NDQVq1avfjiiw899BDCpXLlykOGDFm3bh1GjjpcsmQJA+a+qFSp0nvvvYdQps3PP/+M5NUhYuFKGcZfxnSAEQheD1dIAs/o/NeqVasI3p9++uncuXPJylGiDIYNG5Y/f37Wx9WrV2dZj7uUY1UPakmJ/DUdIhomTJhQvHhxIuvXX39Nb64lfr9v377vv/9+9+7d8Z401pPbWwexhC1HQXkcPnx47969ixcvJvDXqVOnaNGin3/+ed68eX/44YexY8du27bNu+jk3MEFIUUmSpSNCg20C3BewAkKd/oiIBsAtfCXg18MuIGBjgIBB5Jh6Cz8RVdROacT7dio9aeuQjMORHvS2lflR48enTlz5i+//FKkSJEvfFSsWJErQpTdsGED9kb81l4Odqcrf+bG0fmS0Bjc+NUntoGWRQEkT548R44chPadO3dSTjOMx43Eq0jY5dChQ+3atcuWLdu7777btGlThs0huBH+wnMLw4gFTAcY0SCnpjAJrOm/++67nDlzsognyxruzJkz06dPL1as2IcfftihQwfC5NmzZ507vlb8poHrma5Y9mXMmBFHT/TFS1KOo0QKIBGaNGlCh76dbg4cF2etlSVOmXASEhKyadOm8ePHDx06lFOoWrUqS9Jy5crh9AcPHjx//vxjx45pX3aRowd3CkBCQUiBxIuvrV9O/Sk0UxDlKP6iq+GNTqhi2KSBNKjc3+6W4TsDP/4iDxpJtCfIiWAhXErGqRKagb+vKNNCM28cBTWgh61bt44ZM6Z58+aYH3bSoEGDtm3b/vbbb4sWLUI1chSO5d3xhpg1a5YS6sE3xojjYhsq2bNnT/v27QsWLIgiRJ1wxIjWvhNUAnQ5tKOgRDdOWFgYppUrV67MmTO3adNm//79amAY8Q3TAUYkvDFGfnz37t1lypRhMbRx40YcHAEb/9u6detPPvmEQM7yyBuwqXXeH3fpPKbcpUsr4OFwR48eXapUKTon9DpnOmTIEJZfLVu2PHXqlEpuFsiXlStX9unTh4jC4OvXr9+4cWPOpV+/fvPmzUMZaMDeGfC6eMq92ahQG9BAPbgOBVnKXSEJl1Y5u7jpEq6BUJuAwr8DXUVLxPl4Qrjw7xMdAcNmXyWino768UofjAeTUIlq2Z0sBoMS2r59++TJk1FsP/74IxeuRo0ajRo14sItW7bsyJEjvg5ugL1795YoUQJ7ZmBukMCxtF2wYMH333+P9u3Spcu5c+fc+BmY2iitBNCAcm9X2iU0NLRnz576Vu2SJUtUZRjxCtMBRvTonSwCJ96Q9RDeliyO79ChQ8WLF3/33XdHjRpFra/tDeAcpZMI27Zt69GjR/r06X/66SecPpEABzpt2jQOQYlrj5N1uzAM54IpdH4ZXHsXYE6fPr1ixQpif5UqVQoVKsS2Xbt2ffv2nTp1KofmNDmitwfwenMjXsGluXDhwsGDBzHIYcOGoQmwT30/c+DAgWjWgEvp7IQEpuKuLDZwxx13ICzUXtaiWuxh1qxZRG7kryK3HlbdEHTr9kJt0GHNmjWzZMmC3KSEkWhg5yN/1dYw4gTTAUYkcIVu6QMshp577jl5Q9zZ4cOHCaVPPfWUnpFGfX/7T3GOGM+rA+ETT5w4MXr06A8++IBlenh4OIVhYWFDhgzJlCkTntob6b3PG7zQm1w50ADfikaZNGlS+fLlcb6s6vD7CJeNGzdyLAIJfbrGDMnriwNmwIiHcI243JgKVxNNsGfPnkGDBtWvXz9r1qyZM2du2rTp1q1buaYyCWzGaxvY0v79+zNmzHjXXXdhcrr0XgNYv359ypQpq1evTrNr2dt1gqRwT8tWr17NCFOlSuU+j2BUOu5f0BmGcRMxHWBEwnk9PNSmTZvuu+++4cOHK3gfOnSIsJoiRQoWMX9BAQi8sJMCJFyAv3TpEmv05MmTjx07liCtNww43LfffhsSEqI2DhSJPn5mkPhQrxslKvTq1Yt48PLLL6MA2rRps2HDBsr1+wfCtcdNKyHoTfjzRgJBFsXVRPxxuatVq/b444+/8cYbLVq0WLduHaaiZs7YMOlnnnkGHXDHHXdg5CqXyR0/fjxp0qRly5Ylfqvbv2YPTnk4sGo6L1GixEsvvXTy5EmnD5wkNYy4wnSAEQhRli2RPleuXKVLl1Yhfq1Jkyasn1gtqYQw7CL6DeHdERdMzxIf+PFff/01Xbp0+nlBCnfu3MlSvmvXrvKqOPTTp097gzfqgXFSuGbNGpx+pkyZ0qRJU7t27Tlz5hw+fNh5cEUCDoqv18tlKjcSHBiMwDyU4Gp6L6gTeWvXrsUksIdPP/20QYMGc+fOxQwwnh07dpQpU+aee+5JlCgRUqBmzZpYkXbBZtKmTVuqVCn3wgE9Y0Xe/q8fRuJ2xPAYKokTJ07ky5cve/bsem2Q8URVDIYRy5gOMALBeeGbfv/99/fffx+HSJSlcNy4cXnz5mXLkuuvuUUv9CC3KIjQct8smCpXrvzVV1/pR4Twnp06dSpUqBCLPG97HDctWeqNHTuWFf8333yTO3fuH3/8cfXq1fQMTmdcS6lwgu4dsYgnAPYMIIGgiwX+/FV0QcFrJ0rv3r27c+fOCMoCBQpgJO3bt3/jjTcQAXfccQfblClT7tq1i5YYVd26dT/88MNDhw6pf/cgQbfAX8NrjdK7qNu33367adOmjBZVGvVcDCOWMR1gRELxmIVRjhw5+vTpo3hMFh9av3599xt/NJNTu1HcXj5nHskD6s0AlmvoD/y11v0hISH58+dHDejQZOfNm/fLL780adJE3yXr3bv3+vXrUSeuZ+/AFBtIMGAdTgHDueaowyB7LfVgxB90mRz+Uh8EdbfIJgHY0rlz57Zt29a9e3dW/IT/e++998477yTx+OOP9+vXj5b9+/enatGiRZgKHepGAGfzN4Q+ZRBOmsjSGMnixYvfeeedQYMGkUUo+CoNI84wHWAEggubNGkSOkDfEYABAwbky5dPWbyYPJfC9o3i4rHA4eIlva6QZdn48eNZq23ZsoUsjVu3bs1y/+jRowT7smXLVqhQ4aeffmJI69atC/ChTgFQTj/O/3rxxgzvRwyCw0FAXDHiD1xTrjJwmfxFPmRF3itOOuD6IgiWLFmSLl26e+65J3HixIgAtvfdd99XX321Z8+ewoULt2zZ0lm1ElEt5PqREfozPmRXbLnFULpffPHFyZMnXblhxBWmA4xADh06VL169caNG+txKK4qa9asuC3Szq9pkf3XwIM7fy23rgRbLcJwi3ny5ClatCgJDnT8+PE0adJMnz4dCTJixAj9jH/Ezr6ucO6ut4gY7gkPpOmcWlBax4oW366RQouRUNC1A2UxG3ehlZDdEtSHDh1K+NeTABTAXXfdRSJ58uTfffddpkyZkJ50wi7qSkaOgbH9a9CPBhPQJ6xcuRJ1y3iUNYw4xHSAEciGDRty5co1btw4fT7622+/ZciQATXgXBiuDZQG92s/ODu2qhX4PlZFJNRA0Ewl3loXy+V2t27d+vjjj2/cuJE0zYoVK1a2bFl5UtfSMK4fzAYdkCVLlrvvvpvYD3o/IHHixM8888zzzz/fo0cP90LAtfA2cB8cyM71/AB7dlsHtc5olWAXRG23bt2++eabo0ePqsow4grTAUYgo0aN+uqrr7Zt24a3gvz589esWdN5PVC50nJ51MoPohUoIZarvWppTInS+EG3NgJvWqjnCxcuZM+evVWrVmRpM3bs2FdffZWW+tj17yzRjKACq1PoxYrmzZtH4E+SJAnbBx54AAWQLl26YcOGzZo1q0iRIpMmTZKJRourwghRA1igTFrlTh9IK7OlNqptu04AS544cSI319KlS51KMIw4wXSAEYlLly41b968WrVqODKyhw4devTRR/UjaA4nAkDNAFeIS/3www8ffPDBF198sUKFCnv27Hn//feJ3zt37pRDdE8UvFCFx1RCJaJz586ffPLJ8ePHSbNmevbZZ1evXq2qgJaGETNSosWKFUMBPP7448mTJy9ZsuTcuXMJwOjX7t27owNCQ0Nlh9dCoX3Tpk21atVKlizZQw89lDFjxn79+nXs2DFFihRoVpb4/qYeiP3OXNW/oj697du3D8Hdp0+fgNcIDCOWMR1gROLEiRPfffdd165dSeOqxo8f/9JLL2kVDng0XKo3DMup4UNLlSp15513Zs6cGQXQsmXLbNmysaBPnTo1LnLv3r1yxLR0GkJdKU3CW65nCWvWrEmfPv2qVatIM4BcuXLhakm7N7kM409xIXbbtm1vvPFG4cKF27Ztu3XrVhXCxYsXEb5169bF6mR40aKlPCt4NC5KAhnRokWLmjVrZsiQIVOmTPfffz/hXC0D/h8Le+Ye8SoMpWXzderUqV27tpm0EbeYDjAiceDAgUKFCk2YMIE0fgpNoJ8Swp3hv8ArAkA6YOrUqU8++SR+Vj/eR9hmBZ8lSxb8Y9q0aVlCycPSWD4RcKxsI7rwIT+rxRNtODSKhJEMGzZMAqJBgwZktQu1EfsYxnVAlMX8li1bRhTX4yWICMI+K9q/f3+ePHmGDx+uQl9l9Bw8eLBo0aLo2p49e6IeMNTz58+PGTPmrbfeSpQoUffu3bFbDkQniA8MVc8PtK8MnoQOwVb30cCBA5EmblSGESeYDjAisWfPnqxZsy5dulTZ119/vVevXjg40nguOS/hskT9jz/++O677x46dOgZ3z8PUY4T3Lx5M/4RL0mfvj0iypXwokJt3de08Jt0VaVKlWbNmunodJ48eXI5VtfMMGIm4JG77EchGSuidvfu3VjvwoULYzaqy5cvI3ZfffXVvHnz6ic1ZZanT5/Onz//Qw891LdvXzqXZnWojaDWhX8GIEGwaNEi5PKuXbt8TQwjbjAdYERi69atmTJl2rFjh7KPP/745MmT5T294MXkyCAsLOzZZ59NkiTJsWPH1FJVZ8+epfCNN95Yu3atmkW09rlU9wCWll5f6U0jLxo3bowUIE354sWL77vvPlW5QxtGzMhUsEy2TnFSSMBWFh1AJN6+fbsruRb9+/fHAtu3b68s7RXOmzdvjp1369aNQrLYNmD8MmbuCK9VA0cRVHG7ZcyYUT+VYRhxhekAIxLr1q376KOP8Jv4ONzZ888/v2DBAlXh40BpXBuOTIUrV658+umnkyZNSnuVsFX6zjvvTJkyJa6WNLDXwYMHWf2EhIRo5eTrMqK93KKvVYQCYEvjdu3aVa9eXYVLlix57LHH2Eu1hnE9YFRegwwAq0Nffvrpp/v27fMXXYOLFy+2bNkyUaJEqIFLly7piQLQucoHDhyoJwpULVy4cPjw4V6zV0Ij8b4ty3EzZ868bds2f94w4gLTAUYkZs+ejWM6cuRIeHg4a5rHH398+fLl/rrowMfhxZIlS5Y4cWKyiuXydDhEfS6wadMmsqdPn8ZXIhceeeQRCidPnux0g/wj7eUx2aqqVatW1apVk+CYN2/eAw88QFpZJxq0rx7/qsow/hRnRRh81qxZ0aYYkjOqqGDS7du3x5579erFvk4HQJMmTSgfMGAAbTZv3pwiRQpk8euvv44+VgOZqOsc81YJohZZzO2mG8Qw4grTAUYktm/fniVLFnSAHOUTTzzBQlxV14IFeqpUqe69995ff/2VrFwkXm/16tV33HHHBx98oJcHyaIqCO1nzpwhuqdPn/7EiRM0C4jrJJzfbNeuXa1atVTFuu3hhx/2NfE7VvD+m3DAJ8GGEQNYHWBIROts2bIdOHDAX3ENWOujGLDAQoUK6Zd/ZISUV6xYUc8JyGLbXbp0wbyvpQM4qDN10iEhIfa5gBHnmA4wIsGC5qOPPnL/u/roo4/OnTtX6WjR4/22bdvSskCBAnv37tWafs+ePUWLFsU/ZsiQYefOneHh4U2bNn322Wf1VH/MmDHvvvvurFmz9OSArfYCF85piQ6oU6eOsgsWLEBVSCU4T+r1sOrKMK4TmRzC95NPPmFdrsIYQCu8//77zz///OjRozFOPb7q3bs3lqznBGqGNkUTxKADwFccUc5t8uGHHzIGlRhGnGA6wIjEmjVr0AE7duzAbeHpXnjhhVGjRvnrrs22bdsyZcr03HPP5cqVq3Xr1r/88su3336bP3/+xIkTp0iRQl/XLliwIJqAxJUrVzjK22+/3bNnT7JOAehBgrwkagDp0KBBg9q1a6t8xowZTzzxREQ7HxRKUnj3MozrBINReN61a1f69OkxUUqcvoyKpGrfvn25Iwj8DRs27NevX7169bDq5MmTY+c9evRwryB069Yths8FQDaP6a5du1a3m8oNI04wHWBEgkVP7ty59QwAz5g1a9YWLVrIkUWLqvBr7Fi5cmWi+1NPPfXaa69VqFABH3fPPfekSZNm8+bNtPnmm29woHp+QFDHUQ4ePFj7sgUcpfOVehWrePHiHTp0oAEjYb2FjKABWb2Qpe8oAiUahqkB4zpxJr179+7MmTPPmTOHdMz2g+5EDYwdOzZHjhyJEiV65ZVXihQpgpYtXbr0fffd17t3b/co6091gMQrJdOnT+d2s+cBRtxiOsCIxJEjR4oVK6YIDVWrVv3iiy+UjgEFZvbFq+LUQkJC9KtquEuc7JYtWwj/JUuWTJEiBYW4S9wfimHMmDHORcpLyhHLSxLms2XLNn78eNJQvnx5enCx3/nc9evXsxRDargSw/hTsDcZG7b69ddfu18DjAGZJYZ97ty5vXv3sojftWvX+fPn27Zti527HtAK/fr1u5YO8No55agHDJveyBpGXGE6wIjEsWPHatasqV/wxWeNGzfu+eef976OF4DW92zdX62Alvisn+64447UqVPrd1c6d+78+NW/EBw0aBA6YP78+aRxr7hF+UfAOWr32bNnf/LJJ9oX35ohQ4aBAweqisaUjBo16oMPPsAFf/zxx/qLZHlqw7geZC0E9aZNm9aoUSPafwdwyEr9Gd9nW87Y2N2rA7gXevXqFbMOEEiK2rVrt2zZ0n5X2IhbTAcYgXTs2PG7777Tf/wTbu+///5JkyapKirOG8rZgZyanOY999yDQ2TZRPbIkSOs79977z2W72+99RbeE2dK/76dIqArOnH9/Pjjj7TXSwAHDhx48skn165di9pYsGBBs2bNnn76af15fNKkSfv27at9taNhXA+yPSyTRXn+/PkPHjzojPlaYGO0lxgFeiBbt27d++67DyN07wd079495s8FJGT37dtXuHBh94KhYcQVpgOMSODjZs6cWahQIb0iQLZq1ap4K9IsX5xHi+raooJXJU6nSpVKr0HRFYKgcuXKxYoVQ2roDW0WT0BCHeIclSD8v/vuu7/88ovSgwYN+sc//sGSC3/98MMP063+RZ7tG2+8oW83aEchFeKFWsbjPDhZb3vj9oBr6owTMAMuOijr4jQNXCEsXbo0e/bsI0eOlDJwu8ds3gKLQpViih06dJDVUbJu3TpMd+fOncpG2w+Nhw4dmidPHm4K72AMI/YxHWAEEhIS8tlnn40ZM4b0xYsXV61alTJlSvePA2FhYbgwiNlLypmy6O/Zs6f7WEEhH3fsXK0XdXjJ9x8tw4cPZ0V16NAhBkDJt99+++yzz95777043DvvvFNPAh555BG2nTt3xn3TM3vJjzM2nC9wFNJsow6VEpxv1HIjgRLVonTplcaEZHvgff5/4sSJefPmtWzZMn369BUrVlQ8jhq5nYCIFhRz8+bN9ePZHBHoR12BSwi9xcLYzpw5wxEbNmzI7aYqw4grTAcYgRDpWeKULl1av5dy9uxZ0t999x3OEYeIC1MzHKvzs1GR+yMwh4eHK+12FFRxIHlYtvSG/1UV3jlVqlRoCGXXrFmTJk2aOnXqEPXvuOOOJEmSkAB0AGmWU2omOArjDBgYnTMGbTWMgMEYCR13WbEimZPKyUZ70ZGYaM0qVapUqFDh559/ZjWfJUuWsWPHSkrqdROQaIhZL2LhejlGBuwO7QWDRNGqiuHRcsaMGTlz5pw8eTIlZo1G3GI6wIiEPo+fOnXq+++/r18SxAnOmjUrc+bM48ePl0OU28KXxey/vG8OAvvSXut7f1EUpBhQAE8++STuFe+JX0YBlC1bdv/+/enSpbvvvvtQAHfdddc999xD4s033xw9evTx48fpE/fK1jskspxODGLFuG2Iao1kdekDyrds2cLyPW/evNWqVRs8eLC+zILYrVSpUsmSJWlAWi1dImYd4JAOkLTVN2iAzhX+HadOnWKbK1eu77//nhHSPmCEhhHLmA4wIiHXyYqc0FurVi1CKU6QQFu7du18+fIRVnFb0gryejGgeO8cImgXvJ5zrIR5GlAiV0iDKVOmEN0HDBhAFge6efNmJMjvv//OwDp27Oh7EJBIjwSeeOKJrl27fvXVV2+99VbWrFm7det28uRJeqalevNCCeXUcgi2URsYCR2uKToyqlnqumO3c+bMKVCgwIcfftioUaM1a9bIWthLxoDYTZMmTb9+/bSXrFeoQQzQjySscPuyI+Nxu2PtQAK75VjuF7v/tH/DuKWYDjACwT+ynT9//iuvvOJ+VHjZsmWff/55vXr1vP7uevyXHJ/XqwJ+M2CRJP2xe/fu/Pnzly9fXoVnzpxp0aJFoUKF9AXrPXv2PPbYY3pLIHHixCzgcLJw7ty55cuXs7p66qmn3n333apVq86ePVtPdOmWBhzO118g1yo3EihcaxmSIBvu+7ssonuqVKlSp07dv3//0NBQrzYFTJSWJAjPmNDSpUudYWhxHwO6BWiv43oVAGk3GBoAR6Gc/vXSK+V6Zua9pwwj9jEdYERCnkuOqWzZsnny5NFbAjis4cOHp02bdtKkSfpmIPyp/3JCQY8QQLIA3L74RzXTA1uOuHLlSg2DcP7RRx8NGTLE1zDCKX/55Zf6psDDDz88YcIEOmFfOXEgzb54c8QEO5YuXbpv37643Z07dyJu9KaCc80kAtSJkXBBVjpjI4HRIg0nTpxYp06ddOnSFSlSBDPATjA2tQGuvhME2vfUqVNlypRBSuqPgPUGn4J3RKPowIpUq627NcAdC5t31r5hw4YsWbJUqFCBG0qF7tYwjLjCdIARPXgx/CBLqGbNmrEuV/hs3779q6++On78+Ov5UJM2AYt+StQP+2p3tlpynThxApedIUOGBQsWkMX5svovWLBgrVq15EbVFZ79rrvuuuOOO7766iu9zCVvS3spDPlWCvfu3Tt69GiERcWKFcuVK0fil19+Yfe1a9ceO3bMGw+M2wMu/ZEjR1asWDFixIg2bdpUqVKlePHigwcPDnghn0uP1TnLRArIZiQKCc+FCxfOli3bokWLfPX/C+fXQgasTnx2HfEJFAapEgcHWrZsGT2jdPWwyh06oKVhxDKmA4xA8Er4Mrm/adOmpUyZsnPnznJ2eMl27dr985//HDhwoD4+UDP5PmUVj73ek3TURZXzfbTfv39/w4YNP/jgg0mTJumXg3HT5cuXx2Nu2bKFntUbKyfEQebMmR988MHhw4frmapb0zuREUBoaOiOHTvGjBnTpUsXjlK/fn22P/7446+//jpr1qyzZ8/q1EDjVBrIMki2ASMHDuQt1PCEpsLVkg5oDFE7vG3g1IQ/HxnKmSvvlDLDmh+2KgEaBIRG3yxGNHDxmyulErbYzPz587t27VqtWrUaNWq0aNGiT58+BF1ZyLVgx4CjRIz7//5v9+7dpUqV+uKLL5CkWJdiNuXO0vQUgQEwTpWA9gV/3vP/F/SAjc2dOzdHjhxlypQ5fPiwMzlwzyQMI64wHWBEwjky3BNuDmeHCMiSJQtrLLwqJXjDYcOGpUmTpnbt2nhMNZZHBnZ3afYNiM2SCNqCvPDSpUtz58796aef6meGaX/w4MGaNWumT59+3rx52t11Qod169ZlUbVp0yYVOu+sCKHxR/hjj0dWFWd06NChzZs3T58+vUePHkSLJk2aFClSpFKlSp06dcJNHz16lDEDgoOt9gV3dLlsenajYjxqycyQ9R7UC1WcLHgjhxffeCPw5xMs/tOIciJcJq6Ct5ypcEHdC21kGEysMxVauiviOjl9+vT48eOJ/bly5apXr17r1q2xUq4vcTfqAAJwZgNcxPDwcDcYsrt27apTpw4WqD/acE/7GYPb0Y0NKHdXVuelh1Vcdz3279+/f8aMGQsXLrxq1SoZj2rDwsJIuFMzjDjBdIARCRyofCi+SZ6RFTML6LfffpvwTxafiJ/duHEjfu3zzz+fNm3asWPH1F4rJ/Cuw3B2zvGB3CUN8LZ40ubNm7/55ptly5Z1koJY26xZs6RJk06aNAmfS3uigsKt+mGVxuJeoYKhyoeSUM8aPJClypv1DoMBHD9+HFmwbt26WbNmoXUQBGnTps2aNWvjxo2JLizaaKNuXbC/TtjL4S+KTNRyNQZ/PsHiP41rn4jPHCLZA1mml0kGt6OuJnChXXsMEpPYsmULMo6YinYsX778oEGDCK779+93n17RCQkaez+tD8D1yUGVANq7LLbRpUuXl19+OUOGDFg4tsou7puEUgMcwo1T+E7dfwooAAaPpChRosTrr7/+9ddfFytWDK0ZYLoQ0IlhxDKmA4xIyJGBslrNEBEJ2G+88cbEiRNVji/DUVapUuWJJ57AIy9evFjlOEp5t4DAiadjF6GS4cOHJ0+e/Pnnn9fvq7MjbdiL1flTTz2Fr3e/5eIGo4QvXkQ4a9qDr8YPntpbQm86oreQTlwMEGQ1Wnw9sqBDhw6c0XM+iDTt27dfu3Yt6zaN3A2GGOD6IX6oWw5EV0BCLdmLrPeIUQdAiQgoT4hwFv5UZKKWa7r8GQ9MbICOZIs6nDNnTtOmTTHCd999t1y5clOnTj116hT26UKyr3mEVbh0zNDMRX06cXthisjcb775JtHVX6p48MEHsX/9LKZ3bOzC8LjEWI568J4muqRBgwaPPvpounTp1q9fT23p0qW7du2KPWjMwmkLw4grTAcYkcCNyvPqsadzbfjchg0bPvbYY0OGDPG6woULFxI1idw5cuT47bffQkJCcM1HjhzB2dEM10kElYskSydLly5lwf3mm2+mSpWqdevW8q1yx1u3bq1WrdozzzzDcjwill5VEuzOqPC23jBJ2jVw5fRD2mW9UEUnwEjcjjo1tuxCVUCsYhU4bdq0Fi1a5M6dO02aNNmyZatcuXKfPn1mzZq1b98+Ro5SwYlHezigN/pUmoQEgbJRobHw529T/CcZ+TSZQK6OZJagwcmTJ1niL1++HJlYsGBBDAYD0/f+9ekMe0mkAtMbcBXogdn29hmAq3I7UnL8+PEZM2bkypVL/2Eh7rvvPpbyKVOmfPbZZ8uUKYPk5eojgrlBsCV2J8GQOBxpYv+mTZtmzpxJyxdffDFFihSjR4+mmQ4xd+7cPHnycEe4kbMLKG0YcYXpACMQLVacG8XJyvO2bNkSF/nBBx/UqFGDcI77cy6MEM7S5+23306dOvVXX31VtWrVNm3adOrUqWfPnr179yZRv379EiVK6D0AtpTgTOmZowBhYPLkycWKFWOph7dl2Tdv3jzCAH6Zo3i9OY3ZclwXS0g4P6taoOeAYHMt6NydBQlFFPZlElxvJFAwRKAJEyYQiooUKfLZZ599++23jLNHjx6///777NmzV61aRQCQPpCsEQHDIMsRpbGCAc43KppnZlVXlsuHnOJab9++nZns379/u3btKlSogJ188cUXqE+MwT0cAnb0TiBdOUOlK/pXGnz1fwIX69y5c9u2bcMmkXp33nmnP/5f/S8rSJ8+PSoWiVCqVCkUYdasWUlUr179xx9/7NixY2cfrVq14r5AMdBJxowZsfapU6c6y0QfMB7Cf/ny5bt27apC3WjO/AwjrjAdYATiHKj8lBzrjh07cHys1FkN4+ny588/ZMiQvXv34pFxdoA7Y4sg+PXXX3/44Yfvv/++ko9yPurUqdOlS5eRI0euW7dOzwBAq8CNGzfiQ1EYZcuWZfH32GOP6TeDM2fOTD8TJ04kvrI6xPvTPqpzV1DxZ65CicI5CdWSVuBhSxWo5bXQXuBtrPBDD+Hh4bt37x47dixSoEqVKjVr1uQEGW2LFi0IJ8zAmDFjCBsEsIMHDxLhaO86FOqWUYG/6HZEJwje0yeNrsKikFZYFIEfA2ACkY+1atVq1qwZwRUzQwiyI+01V0w7elSSFJRVWmg+/RmfwgN/JjoQH1Jse/bsIYQ/88wzivpJkiRJnDgxCbaSBXfddRd2qNf+Dx06NGfOHK4y4+SOIK7LAOihXr16GDm1yEG6ZTwYDDcRCd8BI5g+fTpSWLJG91fAWRhG7GM6wIiEQh0R3flQfB/udcSIEfi7o0eP4ryIyqyDs2fPXrBgwW7durGMU0v8O3i9noiIA5GjHU4cL4wmYLWHqihcuPDQoUNxiM2bN0cH4H9Bfyp43333vf/++8WKFevdu/eKFStYlqk3oB/vseiTLQMgodoA3F5Ku31JePuBgBOhscuSUKFCiCCq7dy5c/Xq1ZMnTyaqdejQgZUiEN6YNCIEEuGnn37q16/flClTVq1axYypQ3BDui2JmHEfLLiXLFmCFbVv375+/frMCSG/bt26jRs3btu27cCBAwn8GzZsCAkJUVxkF/UAAbOEcbrJZxrJKi00q/7M9YFJb968uU+fPhUrVnzppZcitECiRPrZSnjooYfYZs2aVR+HaXis7BmSDkSCm0XmJzRaV+KeXtCMXZC8PXv2VInXigwjrjAdYERCTo0EDktOigSBnwj9+++/ywniN6nCdXb2faUQF8mqSP/3E9GFD69bBPy1c+UskVkxoyHSpUv3zTffDBs2TM8Vjh07VqpUKXzuHXfcIRGgLeszlmUPP/xw5cqVt27deq0wH7e4ITFdnEtYWNiRI0dY0aJdFixYMGnSJEId+gBBQLApXbo06qdAgQKkkQsDBgyYMWMGqoiFKROr6KKunOygf9IB506JCr27uDSQpoF3l2tNnXaMWsvu/tTVoEszpVXohSqC5eHDh9E6Y8eOZdHMQrlIkSI5c+YsWrRohQoVmjRpgoIcM2YMc0LURzyxyGa6vMf1DeR/p3CLiHoIhsEyneuFLkmdOrXsUGqA7ZNPPjl16lRZtW6QaGfgT+G46MXXXnuNrkBdaWsYcYXpACMQnx/+n68n9i9btuzLL7/ctGkTWbf8wovhxJEILPLw9W/4YK3DCm/IkCHr16/H10+fPn3+/PlEhTlz5hAAWAW+++67L7/8ctq0aYmICxcuZCXtYsDcuXNfffVV3K4XfUaglwaQC/Keah+vYK4Cgigl3qES4MPDw0NDQ5E7RMp9+/Yxn7Nnz0YftGjRoly5cnnz5v30009TpEjx3nvvZc+evWTJkg0aNOjWrRs6afz48VwCdnEBw8VjB8dyi0tGEhClaIx6c1/spAFd0Ql7BfRDln1doVoSI72xigas7xEuyJe+ffs2atQIZcOlz5QpE+N///33OZcqVar8/PPPhPwlS5Zs3LiRhT4y8ezZs3TlnRbG4B0qhwN/5tbDsTi6O6IGdubMmYYNG6Ja8uXL9+ijj8oOoW7dum5alHATfkNwy3A3TZs2Tar6r3ViGDcR0wFGIPg4OX38IwkcZfPmzVm2qlaxJGr8oHz58uVt2rTJkSOHHq6ygk+WLNmDDz5Imq1W/717916zZo03qAAhit6IKOyC59VjAPUAtWvX1v8MCVomINepmAoB4Y1yJoET8QZFoIR4SYidPHlyr169EFVlypQpUKBAlixZXnnllbt9vPjiix9++CGiIXPmzHphjbjFNercufPIkSPRXoAIQ2QQbGbOnMka9+DBgzpQWFgYkVjHYgyIEhQbWm3UqFGTJk1CiiHOiO4ouQ4dOhDgW7VqxfwXL178888/T58+PUItadKkXBri/QcffEA8I95z3IkTJ65cuXLr1q2cqTqPGQ7NeALOnSkKmKVYgJGAP+Nj586dzPaOHTtInzhxApUme37rrbew8PPnz6Nm/s44OWu03ddffy0zxvhVbhhxhekAIxCvd1ZYyp07Ny6eLKFLjl5LGRwobjHAmwuqWOqxu9fJKo0PdYX0JqnBIqlq1aq+6B/xcUDixInvv//+bNmycVw5So6iD2VJx360uE44Hc6FoQrvuceM5kGBQVklBFn3GIbEgQMH1q5dS9xlO3To0P79+6MYunfvTsxGE5QrV65s2bIlS5ZEQJAmgYxAMRC5n3322bRp0xLPkidPjqp44403WMGzdi9WrBg76gML2rMUrl+/fvv27Xv27NmtWzf6Hzt2LMJi8+bNR44cCYhbAdeCU9AFdfOgcyEbcFJRoatYu7IMzJ/yTa8OzSARSZxv5cqVKeREqKUlJzVr1iwkF4pHu4D77t8NoRPE2rNmzeoesKnQMOIK0wFGIAo5+ERliQcEBryhe6pMlYtYDrlL+X23L8i9uhhAA5Djo9D1Q7zXh7IoAKJUvnz5CEusht3iVcTbxZPOMapDp8RBA4eCJYX+dh68LWnDdCkggXdigZaUMIeunMZOMdwQOqgOB6Q1NtJqAKTpnCp//iraV+2jQp8KderfHQLcecU+HN2fiqwDwsPDUZ/z5s2TZZJVG9pjijK/U6dOqfAvTLW65cQRbXrGRgmH9lUaRtxgOsAIRC5SPpp1f5o0aWbPnu2riQRuEb+peIYnBX+FD7l7tv68L1p4o4jXEYeGhs6cOfOOO+5gkVq+fPnJkyfT+ZYtW7788kv93jC+8szVf22BAHEQH+C8onrz6/TvmkYmRKEo2r2808WxmEnwxlEKA2bbn/KhnumEZkDWoR2V9rf2oSrV6lK6BqqiEFToqlTO2LyDiRZ2oY3vCBH4S3243mIBxuAd6pw5c9KnT6+vepJV2NbwGBVZTs2Ve3e8TtyZzp8/v1y5cvv371fWMOIQ0wFGNDgH99tvv33xxRcXLlxQCQFYHlDIJ3rBzSk8kHARgn29jp5FlVvW05s6ZHn09ddfT5069ezZs/qCVlhYWPXq1UePHu2Nduzo7SreonlwI2cSBOVC5THDvEkfBMQbsnSlNA3UrZvJmHE7OijRBQqoooRDu7S3NmA8MaPhsUuEWVz9mMCLGnj7DxjJrYMDeSeT4RUuXLhTp04uy1Yn6z4F0DUNGPANoW737dvXvHnzAQMGqNAw4hDTAUYkvL6PqJ81a9YhQ4Y4363AT61CtbLsor0gwMsHOHeaqecA8K07duxwv8SnNmwnTpxYsWJFPYaV/9URo8aSOIezc/iL/gzOwjsh7Bjt5AjVehtQouliZlw586Mp8kJLjiVcCbuQJaES4Vq6ckZIVmkKXTl4m9EbLcmSCCiMYXddU6DcNQNvs1uE93ACaz99+vSLL74YEhJCVhauEXIWbNGgmmcVuo/JbgjXA4kePXq0bNkSvRsL52sYMWA6wAjEObjNmzenSJHC69lvNd54EB4ezpqpXLlyCxculCOGePiJgJEQkZnJsJ1yatOmTdmyZb02JsOLKhr+MtIBes12yZIl1apVW716NWl3i3mPdT0PeAzj72M6wIiE/JH8VNOmTevVq+cKbynyj+CORcnZs2dbtGgxYMAA0vLIN90vG8GMeyAB58+fL168+PDhw0nLCNk6AXoT0UHp/MSJE7Vr1x47dizmDVg1W2pvxUENIwZMBxiRkJNCBxw7dixLliwrV64kGws6wPk+joU3VBpGjx7dpEmTgwcPktarW95aw/jLeMM8adblBQoUcB9CyebZ3nTRqU8c1H/nzp1R2wEfMVBlRm7EJqYDjEg4xzd+/PhixYrpD1FiYf3tDoEH/MPztvn27durVq06d+5c0npgGwuDMYINAn+/fv1atmxJGgPzrsiljG8isnAS3GvLli0rXbp01G8NmBQwYhPTAUYgWq/UqlWrT58+erE/NkMv7g/wg8BxGUDjxo0ZiVynSYHrgflxU8Q0KuEl2sKgIsCE0LuVK1eeOXMmM+O+zCJuRTzW5246FjJ30qRJHCXgEwFqwZ8xjFuJ6QAjEFxkSEhIkSJFli5dKncZ4DRvBfJ6HMjr+1Q4ffr0ihUr4jrlJb0NjGghqFyJ/H9FZBFSgmm0OQTmwcX4devWFS1adNu2bS4Y3yJjU7debYHGrVmzpj/jO6KrtctkxA6mA4xIKHiMGTOG5dGRI0dUGAv+iEMEiABB4ZkzZ77++ustW7bop4TsJeqY8c4P8xl1Sh1UOa0QhLiJIu4OGDDghx9+OHXqlJsQ1d50Y3OfMijYcwk2btyYLVs27ysC0goQzFfHiE1MBxiRwDHhoVq1atW+fXvcEMtHFao2dlB88h60Vq1avXv3JqEHquYfY8BNDiHHG+ouX77srXIBKWhxk4NRIQKGDBlCWlbHVrUBnxHcLHQhdAlIf/zxx2vXrtW7OGDPA4xYxnSAEcjOnTsrVKgwf/5854+kBuIErY1Wr17Nmsmtk276Ku32w4X88+fPjx8/vmLFikWKFGnduvXSpUv1/gdIbykdbMi2sShse/v27TVq1FiwYIGqYg3dVmz79u1brFgx0gHiLGivjhHLmA4wIoFnXLFiRaVKlbZs2eIvimsY0okTJ9AB69evtxXSdaIHJ5cvX65bt26yZMlSpUqVLl26J598MkWKFFOnTqVKX8IM2qcCTlMyUWijKlWq7Nu3L9asSyrEydk1a9akTJny7NmzpBmYG5sT4oZxSzEdYESC8DBkyJBGjRrpA0s8kfNKcYWWTVWrVm3RogUJ78+9GVFhEekuWY8ePe69917WmmfOnGEax4wZ88ILLyAFNm/erAa36Ll3/MeFWOx80KBBP/zwA+nYMXXUhg7E1j2WeOutt+bPn680V1CKxFSvETuYDjAiERYWVqtWLTyjsvipuH04ydE1gNmzZ2fIkIGEVrrGtVDwIJxs2rTpww8/JOqvXbtWVRTWrl37/vvv79+/P4vRoBUBwCxpokJDQzH4gQMHko6F9bd7J0BZd8Q2bdowDA1J2AscRqxhOsCIxMGDBwsVKrRhwwbSeCs5Jq97imUIXWwZyeXLl1OmTKlPK2LBXyd0zp8/P2XKFFb/JUqUQDmx6tVrAdOnT3/ttdcKFCjg3hIIcvbs2fPVV1+5ByS3GtmzN0G8x54PHz787rvv6l8NpQBMBxixhukAIxIsu0uXLu31R+B8VlyhwF+mTJmOHTuSiPPxxHOYLr19ljRp0tatW7vpQk6tXr06Q4YMTzzxhC6u3hIIWpiomTNnYvBXfL+v4C+NFdzHW4xBjwfQAVu3biXhvkMYh/rbCCpMBxiRaNGiRffu3UngmxR944Mz0hhmzZqVP39+EvKbRgyg5CpVqpQoUaIZM2aQ5VJSwryx/M2VKxflQf48QBaFQmrXrl2nTp1Iy9pjASkwF/7dXVa3bt1evXqR1vuDlJidG7GD6QAjEoUKFdL7Su5hQCyvkwLQMOQQ8Y+sZY8ePRofpEl8hok6ffp0tWrViPfTp0/3vlGxc+fOTz75hPLQ0NBgftNCz0iwru+++27atGkys9h5zqSHbYBVg4v6yNwSJUooC3F73xlBhemA4MU5GhdWDx48+P7777uVolYqisFxiPOMly9frlmz5siRI5UNgLNwJxLMMAnEs1OnTlWtWpV4v3jxYgopUfmePXuyZ8+eJEmSsLCwWFsBx0N07szShx9+ePbsWT2lj9sJ2bFjByo8JCRE2WC+OkYsYzogeInqaAYPHly6dGn3JCB2lkcxQ/RyQgTh0qtXL317MCDkkw0oCVp01Vh0Nm/e/MEHH0Q2SfCx5Yrv3r07U6ZMr7/+ejB/WQBkVPPnzyf0amZUHoccPXq0SpUq0m1xLr6NoMJ0QJASraPJkyfPb7/9RkJuMT7oADcGwjzp5cuXFy1a9MyZM17HTRWnYzrAccUHCuCee+6pVasWws5N18KFC1OlSpU7d+7jx4/Hh+AXt9SrV+/HH39UOm5nA+tFmXXu3Ll3795cL2lxUwNG7GA6IEhxXs/5mvDw8KeeemrHjh2k9Zg0PgRXDU8jYXvkyJGvvvpKX2sUFILSJgXAfdyzaNGi559/npB/+vRpxRUiTdu2bR955JEWLVropfQgn7G333573rx5Sse5DoBx48YhTbhMuogm1IzYwXRAkKLYievB17AlvWbNmpdeekkOyL1BpmYu0MYJDM89FSCk1a1b9/fff1dWVW545jdBIR9CQ0MrVKjw8MMPE/vJMjnop/z586dOnXrhwoVq5kRDEILw/cc//qFf841bCxcY89KlSytWrHjy5El7HmDEJqYDghTFfhyNIN21a9cyZcr4Kv/35WZVaRtXMFQX4FnF/vrrr/ovRFWZDogWZgbmz5//wQcfPPPMM1zZZs2a5cmTJ2nSpFWrVg24vsHJokWL3nvvPRKYUHyIu1jvzp07a9asuXHjRtJcPn+FYdxiTAcEKXJ52srpFChQQP9A48ohziOrG4ncItnJkyc3bNgwLCzMLXxdG5cIZtwkEOzPnz+/bNkyREDy5Mkfeuih/Pnz9+jRQ88AqLp06VIwB5umTZs2atSIBIYkO49zaw8NDW3evPn48eO5Ls68DeNWYzogSJHLUxggTfBIkSLF6dOn3RN4hZM494xu5eoGNmPGjLp16x44cMD7PWydSDBHNS8BT/u5rKdOnTp37hwTRXS5cuXKmTNn/HVBTO7cuRG+zAmoxCViHx2aC9e+ffuePXtiyVwmVRnGrcZ0QJBCgPc+C12xYkW2bNniYRx1Ad75aNZM1atXnzNnjlMGSgTzR91eNGNcXDdjbmacqBIB2dsSNwlO0Wp+zp8//9xzz7mfVY5zvQsazNChQ3/66aeTJ0+Sjg+jMoIB0wFBilwMPlFucfDgwVWrVvXVxC80PLbOJ7KWbdKkydixY50OUBtzmjGjWXKQZQIBleCC5e2HO2t3jiQo3Llz50cffeSUUHwwHj0AmDVrVoMGDdyvCRlGLGA6IEiR48P1yFHWqFFj2LBhvpp4h0boPPXFixd79OjRvXt3AhhV3hgWzFKAS0lQjzmiM120IfgBCX/pVdg35t0TKJw1+DNXzWn06NHVq1fHYFSrhBrEFZp8BMr333+/adMmFRpGLGA6IEiR18P9yfvny5dvw4YNce4Ko0XR3cV4AtjkyZNZM+kbX4pn8qFRY5vh/ROB4Px3QWc5EQH/qoX/8MMPAwYMUAmoVlVxhUbCNSpbtqz7VQPDiAVMBwQvej+A2Hno0CF0wJEjR5zHjFdonN6xIVlYM+3bt4+0yvUReJy78njF+fPn9aiZrV4MDM75cZbjfWfiq6++WrhwoS/yxos5YRiMTderbt26I0aMIBtPxmbc9pgOCF7kdPCS8+fPr1ixYlhYWPxcT2uc8uDyjMePH69QocLy5ctdub0kGIAupaYOgjmoOB3gZgNV9OWXX+7YsSNgWuJ2iji6JG/v3r1//vln0kF7yYxYxnRAsIOvGTBgQNu2bS9evKiYGt/w6gC3+q9Vq9b48eOJdioP5jgXLfobIWKJ+/dIcIEwqHA6QGIRU9myZUupUqWOHTvmzMZZUUS7uMBrvXPmzKlRo0Z4eLiZtBE7mA4IUuTyFBg6dOjQv39/5y7jG3qpWz5RCyZo3Ljxb7/9RpXz3fF2/HEOk6bfWgjOuKJHI5y7e0Yyb948dKTeL/HaVRyaEIfWSBjkhg0bvv3225MnT8ahLjGCCtMBQYrziUQIFh+TJk1SeUJh0KBBTZo0kUQQTiIYhkOhXQGVtMy+R48e7dq1u3jxohNGcR5x3QAY4R9//JElSxZ0gH3aZcQOpgOCFPkddMCxY8dYGy1YsEDlCYWlS5d+8803ehk+zhdzRrxFkd7pAF/Z/2vdunWfPn2ccKSNEwRxCKLWjfDLL79csWJFnKsTI0gwHRDU4Ao3btxYt27drVu3+osSCGfOnEmfPr1+ds39wLBhRIXgqjCvwE+4rV279vjx432VESIgnoRbRLmTJjVr1vz111/jgzoxggHTAcGL3N/s2bMbNmx49OjRBLf4yJgxIyKGhPt0wNZPRlRccJWdnDhxokqVKosWLVKh0wFxazzuSQDD+Pe//z1gwIAGDRqYPRuxg+mA4EVeZuTIkS1atDh79qxzlwmFsmXLjh49Wml9kmofDRhR0TsBoO9Q7Nq1q1atWuvXr0cBaMGtLc2UiBPc3cddiTEjU4oUKaISw7jVmA4IXvB6OJ0+ffr8/PPP3meSCQJ8Zffu3Zs3b66slnq2fjKi4qwCI2e7fPnyRo0aoQa8S3C22H8c6gDg6G5IDC9DhgxKG8atxnRA8IL7Cw8P79SpU79+/cjihuLWD94QDH7SpEnFihVT1p4EGNdCVu3Me8qUKc2aNfN+EKYHBnH+cj7Dc2M4d+5cqlSp7O+hjdjBdEDwQuw8ceJE27Zthw4dqhLnGRMEc+bMyZYtGwmJAJMCxrXANpx5jBgxomnTpmFhYcqCom/c6gANjxvQveyCDti5c6fShnFLMR0QpCjkb926FZ+4YsUK0u5j1IRCeHj4vffe68943hY0DC8BH/zrxwP8mfiEV4hwe3755ZcLFy705z1wLglLrxvxH9MBQYpcyZYtW+rWrbt582bSXl+ZILh06dKLL7547NgxjdycoxEtzjBIXLlypXv37kgBlcQr9EjAPbeoWLEiQ2XMIuKBhu/fQVVrGDcR0wFBihzKunXrKleufPjwYWUTlpdhnffZZ58tXrwYHSDvmeAeaRixyb/+9a+wsLBOnTq5D8LiDy7Gu9d1u3btyr2ptPApAb9KMIybiOmAIEVr6CVLllSoUOHixYuKoAkrjnIK5cqVw6eTkA81L2kEIDsXGMnRo0fbtGkTP39F2/uFncuXL8+cObNIkSLe8QtKTO8aNxfTAcELbnHKlCnVq1cnnUB1QMuWLTt06CAREOfvexvxENmGM+wDBw40b9583rx5ysYrvCr2woULu3fvfv/99xEHDJ4tOE1gete4uZgOCF6uXLkyaNAgQilpeZYE5F/k3wcPHlylShWl7T1BIyoyaacRd+zY0aBBgzVr1igbD3GSBSmQNGlSpYFTcFUyeMO4WZgOCF7Onz/fuXPn3r17+/ORH6LGc+TflyxZkiNHDrnFBDR4I9ZQ7GQxrey6devq1q3LUlvZeIUMmK0L8w8++KD3KZeT6QlIrxsJAtMBwcvZs2dbt249YsQIuZWEFUflK/fs2fPWW2+RVlZbw3BIAaAGMG9YtmxZrVq1jh07ptp4xeWr/zfIaPVw67XXXtu5c6f7NSF3h5oOMG4upgOCF/wLa6PZs2fjXxJiBJWLf+aZZ0ho2WT+0YgW95nR4sWLy5Ytq7+rjlc4BcBW8f7ChQvZs2dHuERUezQu1m5617i5mA4IUvA16IDvv/9+5cqVKklYzkV+8/z58xkyZNizZw9pe0/QuBaSjNg8qhebVzYeooFJDXA/fvvtt9OmTSONtatQaSUM42ZhOiBIwSeGhYUVKlRo3759KsHRJCAXI7fINlu2bJs2bSJt/tG4FtK4KMUJEybUqlVLhfEQjdPJlBo1agwePBjD5m515m0PA4ybjumA4OXUqVOfffbZ2bNn9RwyYekAjRny58+/fPnyeLvCM+IDspbLly+PGDGiWbNmznjiD265D7oN2TZt2rRLly4qFIzcdIBx0zEdELyEhIR88sknRFDnd1SegGCFV61atTFjxpBm/PHQvxtxDoah2HnlypWBAwd27NgxHqpGr/UqzZh/+eWXxo0be606Id6kRvzHdEDwsnXr1s8//9ytMBLoOqNhw4aDBg1S2ruoMgyBVSiUXr58uWfPnn369ImfT490AzJUZ8bjx4///vvvlZUCMB1g3ApMBwQpOJ3ly5cXLVpULhL/kuB0gAbcunXrXr16sdQjbV7SiIoLq+Hh4R06dBgyZIh3hR1/kDrBqp0Zz5o1q2TJkhqtalUVP8dvJFxMBwQpuJV58+aVL1/eeZmEpQPkFv/444+hQ4c2aNCAtPtumGF4cbHz9OnTLVu2HDlypMrjFQxPWtbBsKdNm1aqVCmXdVt77mXcXEwHBCn4nUmTJlWtWjWBehbJF7QLZ1GjRg2lfTWGEYhC7Llz5xo3bswiWyIyHoJVcz/Kti9durRz586PPvpI5Wz1zVgTAcZNx3RA8NKzZ89WrVopfMq5yN0kCJwOmDNnznfffae0r8YwAlHgP3PmTIMGDebNmyftGz/BsJ0lnzx5Mm3atCQ0/gR3kxoJBdMBwUujRo369++vtFxMggul+MQ1a9YULlzYnzeMyChqyrxPnTpVu3btxYsX+2riF97o7lb8ly5dSp06NQn3G1nxWcEYCRfTAcFL/fr1Bw8erHQCXWow4D179mTPnt2fN4zISNpqe/z48apVq65atcpXE38h6utOvHDhQpo0aUi48C9BkODuUyOeYzogSMGVNG/efMCAAcriKBOiCGB79OjRzJkzq8QwAvA+4sJUKlSosHHjRn8+vuIezp05c0afC7jb03SAcSswHRCk4FkaNWo0dOhQZfEsCe6Ro7whi7wPP/xQJYYRgDdkogPKli27fft2fz6eEfUGPHfuHLYdFhaGMlCtfS5g3ApMBwQvpUqVmjNnjtIJboXBgDVmnHumTJkS3PiN2AdTKV269O7du70PCeIPUWP8xYsXc+TIsXfvXgYcP8ds3B6YDghesmXLtnnzZhI4IHmZBBRN3VAPHz788ccfm5c0/pRjx46hfQmr8fN7g86GWf2TxsLRAYUKFQp4gGGPBIybjumA4OWLL75Yv349iYT4yNE5zRMnTpQsWXLnzp3eQsOICjqgbNmyO3bs8OfjJU7gYsyXL18uXLgwti3D1tYefRk3HdMBwUuC1gHOG0oHyLmbDjBiwHSAYUSL6YDg5fbQASdPnixVqpTpAONPMR1gGNFiOiB4QQesW7eORELUAQKfKB2gz1DNRRoxYDrAMKLFdEDwcnvogFOnTpUuXXrbtm3+IsO4BqYDDCNaTAcELwn6cwHAIeIZQ0NDy5QpYzrA+FNMBxhGtJgOCF5uJx2wdetWf6lhXAPTAYYRLaYDgpfbQAcw5tOnT5sOMK4H0wGGES2mA4KX20AHwJkzZ4oVK7Znzx5KEtwpGH8BrrIi4sWLF/VT/DH/LpCs4tKlS2FhYeXLl0cyxs9QqpNyCQZ5/vz5b7/9dt26dTpN/b4Qifj5O0hGwsV0QPCS0HUAPhFfefbs2aJFi0oHxE//btxEuOhEdH/GZ7RXrlzxZ66BDJvYGRoaWrp0abe8jm+4USkhHVCwYMHt27erxN2hkgWGcbMwHRC83B46IDw8vEiRIuiABDd+4++A/lMCHeD+nj9aXHw9ceJE8eLF9+3b50riFW5USkgH5MiR4/Dhwyp3Mjd+jt9IuJgOCF7QAQn6e4Ma8Llz51gzHThwwB6WBgOERi60i4jYQMzXnZaC9PHjx7/99tv9+/cnIB3w4YcfsiXrbs8Ed58a8R/TAcFLQtcBuEt8ZVhYWN68eXHx9rA0ePjDh7viFy9eVCIqPg0Q8b0S0idOnHA/PRkPiVYHvPvuu8q6kzW9a9x0TAcEL7fHe4I495w5c4aHhzs3atzGXLlyhYh4+fJlZd2rgjEgOyERGhpaqVKlVatWqTy+Ea0OSJMmjSvUWZjeNW46pgOCl4SuAwDPePjw4c8++0yDl6M0bm+0IOZaz507t2DBgp9//vnu3btVFS2yCuLo2bNn69atO3v2bJXHN6LVAe+8847SbBPufWrEc0wHBC8JWgfIM7I9cODAp59+qkJzkcEAV3nr1q1ffvnlU089lShRorvuumvOnDn+uuhQWEU9EFYbN248adIklcc3otUB7733Hmk9A9BWlm8YNxHTAQkMeYE//vhDMc+5BrIqYdGjBE6EbQzkzZt3+fLlJNyTRueJ4j9uqMePH8+UKZNmQCUkqNWjYzcVaq85YfbYGgkUrnjlypWffPLJatWqPfbYY/fff/+CBQv8ddGh5wcYObcGOmDixIkqj28wTqzUG+a5PQsWLKgSGXDUL0kyG7Jne2/A+MuYDkhgeL887VwG4e3w4cM//PBDsmTJ7rnnnlmzZin+udAYLRUrVpwwYYI/4+vNdRj/0VBx7pz4xx9/TNr5Qe9ZUKjs0aNHWUTu3LlT5cwMuI+ZjYQC4fDChQvr169ftWoV8e/dd99NlCjRkiVL/NXRIcPADLhNWrRoMXr06Php5xIB2jJmmD17dsmSJf3VPhTydV9j0gcOHGjWrNldd93Fjb9hwwaVG8aNYjoggRH12eDp06fHjh373nvvvfnmm/hE2Lhxo9YNMbxHDa1aterTp48/43kqkIDA8XGy+fPnJy0f6tb6Wj/B0qVLhw8fnjZt2nvvvTdv3rybNm0ikKjKSHDosnKtFfNef/11DH7FihW+ymhQTFUaDd2uXbtBgwY524hXSAEorcTMmTPLli2rcpXoXCgJDQ3t3bv3K6+88s9//vOOO+548cUXly1bFrGnYdw4pgMSHngEb8w+cuRI3759q1ev/vvvv6dIkSJp0qSzZs26nkff+MRffvnFn/EEzoSCJgFfWaFCBbdOcmeBBkIMMTnUvvHGGyVKlCBgfPrpp4cOHaJWXjUhSp8gxxvUucToAKLg3LlzVRgt7ipfvny5e/fuPXr00NWPV2C6EaE+8sDGjRtXrVo1fUVCukdbmh09erRFixYVK1Yk/GPYTz/99MGDB307GcYNYzoggYELcKEOVygfd/jw4b1795JAB9xzzz3z5s0jjfs4d+5cRLtr0Lx5cz0P8PaZUIhwmT6nOWHCBDSQN6ITKlTFSe3evbtly5atW7cmVNx5551ZsmQJCQmhSrpBzYyEBYbtzDVVqlREwUWLFikbLTTWhUYH/Prrr8hflccrdEYaJ8YMpLt169a2bVtfvR81oxYDDg0NPX78OFlm4Lnnnlu+fLkTSYZxQ5gOSHjgC5w70PoA9BHAq6++ilNYvHgx6T91CkRHlkck6I2uVJhQ0IBRQmPHjkUHkNZHIRDwLOTYsWNsz549e//992fLlk3LJjdvRoKD6+su8YsvvojBx/yTAARU3S9YyIgRI5o0aaLyeIV3uc9oJQiaNWvWq1eviOqrqJwGtNQkIG6Ygddee00rAcP4C5gOSJA4PyjCw8OV0CsCrAxwEy4uXovffvutcePGSic4HSCHyDn269evRYsWpANOwfsLM0iiU6dOMTOfffbZ/v37VQimBhIcAZafIkUKJ3yjRXaiC409jB8/vnbt2r6a+IVsNcCGa9WqxU1KIXAKUjMOd4Pfcccdzz///ObNm+29V+OvYToggeFudRwcuEgmDyK3qI9L5Tt8ldGAT5k9e3b58uXlXGgc4GXiP5oKREDfvn2Vdu4+otqHHpMwUWfPnmVmcubMuXv3bjctCe6UDcEV1EWUwa9cuVLlUaEZV18XmsSUKVOqVq1KQrXxDT3D02hRPCVLlvR+y9ENm4QMXguAu++++9VXX9V3gA3jL2A64Lbi7bffxi3q/QCIwd/hZZYuXfrtt9+SlvcJWGnFc3RqLImaNm06aNAgxf4YzjcsLIyZyZYt2759+7z+VAkjoeB0sH4KQjrgT38qWBea7Zw5cypWrOj98m08wS3upW9kz5jr2rVrdXu6E6fKa7fUMgP//Oc/N23a5C8yjBvEdMBtAu4A3njjDZyCvkaFs3C+IyrUrlmzRt+4k9PxLqMTBFrqVapUadq0aX/6IYjpgNsGFsGyVQyAdfC9994bw+cCwtk2LStXrowxKBt/UPj/r++DfyXYIuvdp/7Owt25I9yBhJ4HbN269U/vAsOIFtMBtxV6HhDDY1Iv27Zty549O25FrifBBUV0D9tChQrpiajO4lqYDrg9cKFOCX1fIObfEeIqy1QA7Vu9enV9ZyQews3oPsJgmyxZMveVH3cKLuFgBp577jn3G1mGcaOYDrhN0CpBOmDhwoU4iz9dHBw8ePCzzz67ePFiQoyLGiqx/+OPP964cSPpqP7Ri+mA2wPvVebqp06d+q677sLg/UXXgJa61lu2bKlTpw4KWOXxCgbpxsmWG/Oxxx5zJur0gZsBGiuBYaMYtm7dqjaGcaOYDritwC3eeeedeh7g3ES0UHvy5Mm8efOeOnWKrHcVkrBInjy5fhoI3OPfqJgOuD2QobovyLz88stc1s2bNysbFRcaudawe/fuBg0arF69WoXxCicCgGEj01OkSKGsu5dpICNXQu2TJEnCXbBjx46E9YqPEX8wHXD7cOXKFdwBbjHmn1URrCoIjSVKlNi1axfZmEVDvIVhP/XUU2z1JkQM70OYDrht0FXz/ji0kwVRcYZNZGXHkJCQJk2azJ8/X4XxCq9kIc1dnCtXLrLEe68O0Im4xiQw7Kefflr/HWoYfwHTAbcPeMN33nnnwQcfnDlzprxkDOsDPMuZM2eqVKminyWXb01Y4AEPHTr01ltvkdYb4PY84LYHsXv27FkSvpfk/vjTN/9dvJRthIaGtmjRYvLkySqMP0Q1xUGDBlWuXJmEW/ezdQln8NzpSZIkef7556/zrSDDiIrpgNsErRi+++67nDlzXucbQ/jT2rVrT58+Xc4FXCL+I7eOiMmTJ498fQwPA8B0wG1D1Asdg94VXGi9LnP+/PlWrVqNHj1a5fEH2bBTLdC+fXv9zJdXyshind3q5zFy5MhRpkyZI0eOuMcGhnFDmA4IXtABrVu3HjFihNxHQgyKgwcPxgOSiOpGA+BkmzZt2qFDB60mYxYNxu2EJCNgHph6t27dOnfuLFNxgVNtYrCfW03Ut1zR9L/99ps/Yxi3EtMBwQtrIxyi96+HExBy2V27dm3UqJGWg3+6KHRfoHDrqj/dxbgNcMGeBGbTu3fvn3/+WZfeBf441wFRD50nT56Y/0fRMG4WpgOCF9bELDhatmxJWm4oDv3gjcJQieX16tXDrWvYMQd1t95yq8OE+PzD+As4q0YHcNGHDh3atm1bPRaSFamKbdyahNMrQPqtt946fPiwP28YtxLTAcELvmbSpEn6sz75IBcjEwR47QIFCkyZMoW0XpvyetKo4PTDw8OdXNBnq8Ztj4vuMg8M5scffzx69KgKpRK0jQ86QPfghQsXXnjhBadgDOOWYjogSJHLW7Ro0XfffUcQlcdJWDoAUqRIoZciFdSjfsgaLZysedigQtauQLt06dLGjRvr67KuEHuIWxHA0WWT0qkhISGpU6f21RjGLcd0QJAir7dmzZqKFSseOXJEhTGvp+MVvlD+38cee4zYj3zR6ciTRgttWGOp2ZUrVxLQmRp/B11xbXXRt27dWq9evQ0bNkRUX9W+NIhbk2AAGqS07IIFCwoVKuSrMYxbjumAIEVOB29Yp04dPKMKY4ij8Q289qFDh1577TVlOZ0/fRjALq4N7TlZUwO3PbJzGbYuN0vtWrVqLV++3Bt3Ic6NwXv39ezZs1mzZmafRuxgOiCo2bRpU+PGjfW3rQlIBACjXbZsWY4cOfSLSZcuXXJfB4gW90XBmJsZtxmyaq8OOH78eI0aNRYvXhygA+L8QzGG5wL/Dz/80Ldv3wT3OZ2RQDEdELzgB48cOdKqVaupU6cqq/KEwsCBA2vXru39RbkEdwpGLKBI7xUE9evXHzlypFMA7o3ROI+7bkhFixadP3++fa/ViB1MBwQvRM3Q0NDWrVuPGjVKWZUnFH788cfOnTu7JRSYDjCioujufSSAzSMir1y54hUH4LWlWAbT1TD04CpXrlz2fwFGrGE6IKjB6bRr104/JZTggmixYsVmzJhBwuviDcOLi68yb2mC/v37d+jQ4dKlS+7TIpXH4S3grBd1EhYWljNnzr1796rEMG41pgOCne7du7dt2xZfmeB0QObMmffs2UNCj09NBxhRCbBqxfuZM2fWrFnz/Pnz7sG7EnF4C2hgGsbq1au/+eYb+xEhI9YwHRCkOJc3dOjQRo0axfDPrfETnHiGDBn0q3B69c893TUMR0Bol1jcsmVLsWLFTp06pULaxPnzAB1azyfGjx+PTAkLC/PVGMYtx3RAkOJc3qxZs+rVqxcSEhKHTvAvsG3btnz58uE3Gba9TmVcC1m1s22JRRRAoUKFdu/ercJ4Yj8MEhhhv379fvrpJ6SJe23QMG4ppgOCFDlElkfr169HB2zatMn5ygTB5MmTa9WqpS8L2JMAI2aIqTJvX6iN+KmJb7/9dunSpbIchVs9EohD9KyCbePGjQcNGkTadIARO5gOCFLkAVlPsyqqX7/+ihUr5CgTCn379u3QoYP7xpe9HGDEAAHVmbdM5bvvvps2bZp0pKq8X0CNK/S5QIkSJWbNmmXq1og1TAcEL3/88Qe+Jjw8vEaNGvideKsDvI9tXbpBgwajR4++cOGCVwG4178NI2a6d+/OspuEzF7b+PABwcGDB2vVqrVmzRp/3jBuPaYDghTvI8fatWuPHDkynnxKGhXvUJUm3pcpU2bChAkqBHuCatwQEydOLF68OAkpAPdMPqIuLmAYYu3atTVr1tRPfZtVG7GD6YAgxRv1W7du/csvv8TbxbS8My6SrT7EPXbsGE584cKFEdU+3G/CGMb1sGvXrvfff9+9E4CNycDinKlTpzZo0AALJx3nrywYQYLpgKBG37gbMWJEixYt0AHxUwrIQWsrTbBhwwbWTDt27CCtUwDTAcb1g9m8/vrrZ86cIa23CGVgcQtj+PXXX1u1aqV/zTCTNmIH0wHBC14GD/ivf/1r1apVFStWPHfuXLx9DunctDwjayaEy4kTJ0g77UKV2hjG9fDRRx+tW7eORHz4RAzrhYsXL7Zt29Y9nKNEtYZxSzEdEKS4j0KJ/YcOHSpSpEj8/B1TuUK2TgegXfr27fvTTz/pR4Qc5jSNG6J27drdu3cnER8ev2O9cPLkyaZNm44fP97eDDBiE9MBQYocjYLrhQsXvvnmmyVLlvhq4hfy0bhIpwNYKrVq1Qop4JZxVFGutGFcJ2PHjs2TJ48TxPHhYdKePXsaNWq0evXq+DAYI3gwHRCkyNG4nxOuWLHipEmT4mE0lV5xr3ExQlTLDz/8MG3aNJWzdes5UwPGdYI5bdq06bnnnpOaxJDifAmOGa9bt65evXo7d+6UYdtTASN2MB0Q1LhlR6dOndq1axc/4yij0jjlsjds2FCtWrWlS5cq694TdFrBMK4HDOapp546efIk4TaeWD5avGrVqu4DL9MBRuxgOiCocYuh8ePHV6xYMd6upxXg5RZXrFhRq1atrVu3esUBaAllGNdP5syZly9fLruKcxGJJY8YMaJJkybeV1+VMIxbiumAIEVeTx4HB7R79+6sWbM6BxTfkEPU8//p06c3aNDA/VmcWzPFh7e9jIRFo0aNOnbsKOtygjKuOH/+fIcOHX799VfS3J6ma41Yw3RAkCId4JbURNN06dIdOnTIVxnv0Djx11euXBkwYEDr1q1d+HdrJtMBxg2BUc2ePbtgwYKyLmdRcQJjCAsL++6775YuXUpWH3JpYIZxqzEdELxowYH7UyjNly/fjBkzfDXxCI3NOcRTp079+OOPffr0UdbrKG39ZNwQyN+TJ09+8MEH586dkyE5TRn7MIADBw7kzZv3+PHjZGXMcTgeI6gwHRC8aAHt3rPr0KFDgwYNlI4/eHUA271791avXn3WrFmq8uoACMgaRgzoAUCOHDk2bNggy4nbuDt37tzixYvrrnQG76sxjFuL6YDgxev1SK9evZq1kT8fb5Ar1PKI7aZNm8qXL79//35X5U3ErR83EhDuU6TatWsPGTJE6bjl559/bt++vbNhe75lxBqmA4IavRhIHMX7XLhw4cEHH1R5fENem+2aNWvKlCnjnmGIqO8KGEbMXLp0iS2W06dPn5YtW5J2yiCu+P777ydPnuxs++LFi0oYxq3GdECQojW0+4LAH3/8QRBNnTq1XlNyLw1AnH+JwA2AUQ0YMKBZs2bKGsbfZ9WqVXnz5mXxHZt2rhjvla2UpE2b9ujRo/58PPj+ghE8mA4IUvTUkTWQBIGW1KVKlerbt6/KnZOKP/6IpVLlypUHDRrkzxvG32b79u3ffPPNwYMHY+dhko6i2033oEp27tyZJUuWCxcucD/qloyd8RgGmA4IUtxTULkbZYcPH16yZEkSeCLnhuL2c0p5TA0mPDz8448/3rJli6/GMG4CJ0+erF69+vTp00nHwkcD3vtOd5YsvF+/fhUrViThleCqMoxbjemAIAVfI5fkXZQcOHAgY8aMekDqnFHcomHoOSprpk8//RTnGE/GZiRoELsY/x9//NGuXbvOnTtTEgs6wClstkoo2H/xxRcjRowgwZB0S4LpACN2MB0QvMjLyBkJHBCBdteuXaQpj3hAefVV/LhCA9BnE4MGDfruu+9IeMdsGH8Z3QLDhw+vW7duLIgA4T5ok21jzJQ8+eSTR44cUbkz7zi/+4wgwXRA8CLH53yNViGVK1ceM2aMK4nziOv1zsWKFevbty8l5h+Nv4lMSDpg8eLF1apVi7Uf0yTqu9tKidWrV6dKlYqE7kGNzYzciDVMBwQvOJoAj0Ni4MCBDRs2lH/EK1GCq3INYh/nMS9evJgyZcotW7YwmDgcj3F7oIiLdcGePXvq1KmzdOnS2LErjqijC7I//fQTN53SKgRvG8O4pZgOCFLk8uR33Aob17No0aKiRYvq29XSAdTGuUtiPEePHn3iiSeUNRdp/E3ccyZsKTQ0tFGjRhMmTIiFz+N1x8mAddMxkgIFCixevFifFzgpoLtPacO4pZgOMCKxb9++UqVKrV+/nrRcUiw4x5iRf+zTp0+5cuVMAdwQXEHCDLjoYniROTE/3bp169q1KwllmS7A8hWJb248lsgODw9nS88HDx7MlCkTI9FBLfYbsY/pACMSJ06cqF27tr5GhVdiG7c6QGMA1kwTJ04kEee6JKHgpg6ILiahvARMyJgxY5o0aYLx+/M+mMBbMWnq070tOHPmTJQ3xwJGBSo3jFjDdIARCRYrLIy6d+8ur0SJFklxhcbA4unVV1/VQooSC2l/ipsiEi7NNVXCABeJYfPmzZUrV4760xSITjd7NwXdTbJqDaBFixY9evSIqDOMOMJ0gBEJPBTL7rp1654/f56sN4rEFUSv5cuXZ8+enbRcp9eDGzFz5coVm65o0S/5S1YiMdEBc+fOJR2xML8qmMjeXB2s3tQ/nXOXFS1adNGiRb7K/8GohD9vGLcS0wFGIGvXrsUn7t27lzSuKj44o5YtW3bq1OnChQtyo3H7iCKhQPh3E0XC1EAATAi2TUjWzDRu3Jh1uWbMG/5vkbGp202bNhUqVGjfvn0qFD4BEIGTI4ZxSzEdYARy6NCh+vXrz5s3jzTOSIVxhRxi3rx5Fy9erAVcnP/vUcKCkAb+jHEVjIppcetytoMHD65QoYIeg4F7DeWm6wAOzVbiY+TIkbVr1z59+rSv5n/4rD4Cf94wbiWmA4xAwsPDf/755wEDBsSHiIuPZrVUsGDBgwcPqgQ1YP7xTyF6MWOzZ88eNGjQkCFDFi1adOrUKX+dcTW6K9gr4u7YsePLL7/cs2ePr/4W6gCJD7ZYcsuWLQcOHCiB60VDAn/eMG4lpgOMQHB8+KZ27dqdO3fOXxR3oAOmTZtWq1Ytfc9KrwredNd8+7Fr1646deokT578n//858svv/z+++936tTJPhpw6BmA9y+t2ebJk2fp0qWyMReb1fJmQW9Ed/WJMqtcubIevBlGHGI6wIiG+fPnV6hQgYV47K9IXIx3/hcRwIpWfzXEeNxCzRCaGdDUKYwVK1YsZcqUzZo1W7x48ZQpU957771nnnmma9euvob/m2T3FQxlgwedsmxJC3TS3bt3r169ekS1DyebNEs3iwsXLigxZ86cGjVq7NixQ1nDiCtMBxiRkGcMCQkpUaLE+vXr3TNMX+WtRa7ZxSTFKtZM+MqpU6e69VkQBq2YcTOjuMXFmjhxIlE/S5YsYWFhTBer3iVLltxzzz2ffPKJfkXfzaF2Cdop1ek7VbRixYr06dMzXdKgmtibbvw6HN3+/vvvTZo0ifpygGHEMqYDjEi41Xa1atXGjh2Lz3Je8pZCKMIzuoCEI5YvxjXXrl178+bNcsdBG7FigInSVeNKaX6+/PLLhx56aNiwYaRdGEMWPPfcc5MnT1aJtprkIJxVnbLmjUlQyEcWpEiRYvv27bJ5apkl91TgJkK34eHhP/30U+/evZVVuWHECaYDjEDk+AYNGtSgQQPSN/eh6LXAL+MNFZZADpqSIUOGNG/e/MyZMyqXgza/6dCMeSeEAPOPf/wjWbJkLDTBPS1o3br1I488QuxRY6+8C0Id4AxMWfeiQMWKFfWrPm5OnE3eFHREOj9w4EDZsmUXLFigrK/SMOIG0wFGIDg+vNXOnTs///zzc+fO3Vw/GDPyzrhFRanz58+3atWqV69ecpSMSoMxv+lwV8fF+y1btiROnDhlypRnz571Bvu+ffsmSZKkUqVKATqAbBDOpzt9Z1pKzJ07F7PXLaBy1+am4I67bNmyb7/99uTJk/HhWzlGkGM6wIiEXB7eiriSPXv21atXk70Vj0ajRQdyTnnPnj21atWaMWOGr9KIBhei3Bt/8+bNQwekS5fOBRiiGvz++++UlytXToWKcN5EEMJ0Of0ETAWB+Z133nHv7t30IM2F0PbXX39t0qQJaffaoGHEFaYDjGhQdGnWrFmLFi1IaJl+S1E0kg7Q0dnOnz8fHbB//36VCG/aEC66sF2yZAnx/rXXXnMlQDwbO3ZsokSJqlSpQtZ7QYN2PjlxYIq8SggLrFChQq9evZT1qoSbgmY7NDSUCzF58mRXYhhxiOkAIxDvyvKTTz5xseSWouel3gcPpEeNGtWgQQOCltdXBmQN0JpS0X3btm3E+zfffJNZYg4JcprbgQMHJk2atG7duqTdMpfaoJ1M9+ILM8AUOW00bty40qVLO7On9iZOkbrau3dvzpw5d+/eHdXsDSP2MR1gRELeUI6JaPHiiy8ePnzYV/M/b+UWSYox3uWUAzfq9Z7sK5fnCr0NOKgiEyUgF3z+/HnWTCNHjlSQc6GLo0d7xODEzaE3ojz66KOvvPLKpk2b3K/kMmPNmjV76KGHOnXqpMunC62tzaeD+cTgP/roo+PHj5N1+sDNMzBd3qyDxuAmkzRbZ9jeSR4zZkzRokWdSbvLZBhxgukAIxDCsCIxnqts2bI9e/bEiyl4qBxwjvKPDqpwfL5d//egVc1UItepBKilmglvCYlDhw59+eWXmzdvVolzmrZ4ioqbcF2mQoUKEfJHjRpFOiwszFfz/9KnT4+qmzVrlrK6HJpMpQ0RHh5esWLFadOmOWuMOj9MOFN98eJFEiKgjfdbNgrzujtIMOfcVghc0uwluWAYcYjpACMQxQbcE04Kb5glSxbnqtxaXCKANK6QwqiOEpfHXjSL2c3RzO3rdZ2MYebMmYULF3a7K0Fj550N4dNafk0mHTB27NgHHniA2QsNDVU51zFRokTog5MnT5LVRQQTVVHBpPv169e0aVP3Bp+ml0ljutwtcC2oVXtsVT+G7SZZ5fv373/ttde8/5fhLp9hxAmmA4zoIe4CYeOtt97CZxGknTtTsAFvSCaNOwP28kZ3IA3yj2xp4GrJuk7UvxpTWLdu3Z49e1JC2rURMTviYENzTsJN5unTpwsUKPDCCy9Ur159ypQpffv2/eijj8gOHz7ct8f/IpPa23x6IXgvXry4QoUKx44dI3v58uWo80MJd0EMzwM0w17V5WTu0KFDCxYsSMLdR4YRt5gOMCLhIq7za0WLFv3tt99IyNk558VqKar7c9BPhHf0xX5wzVSCl6QBhUJVQiHt/PnzmTJl2r17t9qrirQS5kC9uAnU/OgKbtmypXz58qw733zzzVdeeeWDDz4YO3ZsQEtNNThZYAATGBISgoRasmQJWcVvTM6rX6NCFbMqs1czZrVTp04dO3acM2cOWfd0IV++fAMHDlTambRhxCGmA4xIyDG5D+MBn/Xtt9+ePXtWWRwirFy5koUmXg/nKMfHljQxm61CkbLaC2hDiT/j87bUBvhBSrTL3Llzs2XLxoFcA3Ynq7S3nyDHzY9LaALJHjlyhAg0ZsyYqVOnbtu2TbUKUcJNo/dyBzkyXWToTz/9RBQn7bVA0gGoKipUcSEGDRp0//33v/XWW5UqVZowYcKxY8f27Nnz6aef0r/mnGZ0a/NvxC2mA4xoUCwRu3btypUrl3TAmjVrcI76pfq2bdt6g4oXOVP5TWVZDGnR6f0vY+KQelAz0rRhC19//XWPHj3YkbSvbUQnoLThcHPi1vSaTK9UclfBe1k1zySoVQMDNEVM5vjx46tWrXry5Env5DCrXiPUJDON3kLau6U/gf/ZZ5+96667EiVK9MYbb2TNmrVcuXJ58uRRLS2978QYRlxhOsCIBE7NhRC95YRnLFmy5FdffZU5c+Y777zzvvvuk1MLCQnBkbnGuMJ9+/axACpatOjrr79+77334v6SJElCgu1jjz2Geqhbt+6CBQv0l3fgPKwSLstqKXHixEePHpWH1VEUtMAd0QA3aXpY4p0cqlxAcioBKAe1ZFbdUxZDMFdMzs6dO6tUqbJjxw4pg/37948aNYob4dVXX+UWwLbvvvtuDBtDfeSRR9KmTVujRo0pU6bo24bqRImWLVvSTFLgnnvuYfvEE080aNCADtWAllwOpQ0jTjAdYASCVyISnz59eteuXd26dfvggw/kxRAB8mUPP/xwvXr1aMni/vLly/i+ESNG5MiRAweXJk2aihUrtm/ffv78+UuXLl25cuWqVatIjBs3rkWLFqzyn3vuuddee61EiRLTp09nd5ygi0NuUTV69Ohs2bKRiIXVEoFQKO08skqAUSkwUCVRonJQiVq6BNuAZlFxnQuy6sp1Aq5z0NFdlRcKaeYN/2T19OXixYvu+bNQV96jqEShjrQr53CghErA20CQVcuo5apSQvjrfAQMgzQoDdrR1/H/jk4D72leJy4eA31ypjpZmZaGQYKtjuWGxNShA4YPHz5w4MACBQrcf//97777boUKFbp37z558uQVK1asXr16yZIlmDe23apVq/z587/44ovPP/88K34aaOYBI1f41xZ0H6EeSpcujSymgUkxI24xHWBEAv+Id8PZFSpU6IEHHsBhSQSw+tHKnnSyZMnOnDkTHh7Okh2hkD179jfffBNlsH79etxfgEP3+m6ccmho6KxZs6pWrfrpp5+iBsaOHXvq1CmqtHLFbxK9ateu3aNHj7/g9P8auH7n/R3eCHQtIsKUj4DdKWHwxBsFIWVJU+ImR1nKqVWJQH6FhYUxJ0eOHDl48CCrxj179rAq3bhxI9NL7Fm2bBnBgzmcOnXqpEmT5syZM3v27BkzZpCdOHHimDFj0GRDhw7t16/fr7/+OmjQILIEKiITbdhr3rx52pcSpBhyDa22YcOGdevWrVmzhsT27ds54r59+zg615eRnD17luvCyDVRDJg0eE+cBCWcjq9JBCr3Qi3WBbT0F12Frry9BXCtDm8IZptDKM3psHXdMh7XvxI0DgkJKV++fMqUKd955506depwCU6ePMkpqJnwigzg2nFFUA8fffTR559/PmXKFOaQDlEPyAhuHN0+gBTghlIJNxqXw9+FYcQFpgOMSOzduxe39eSTT8pPAS4MBaD0HT5QCUQI4goK4IsvvujZsydZ7R4RHyKvhlnrBCx3cLLIiOXLl9etW/fjjz+uXLkywYlyRRGWRyy88LABPveWwoA1bLYcGi3ir/BVKTaQ4ERIC9U62EXB0p/34Q38gjbHjh1jkjdt2rR27dpFixYRLVh09u7du1OnTm19tGvX7qeffmrevHnjxo0bNWr0ww8/EIeQWUwXCURSrVq1avqoUaPG999/T+AhAdWrV6eQ9k2bNu3SpUvXrl3pk6UqJdWqVWOeaYkCAxLKUs6O7MW+QM80btKkSbNmzVq2bMkw2L1169YMid769+8/cuRIQh0CAvWANEEuIOwCrq9gijh3LiLzGW0D5pMqIOEv8sEutKechHqAgDY3RNSLpYtCt94s6IMwgjfiqWjRooRzTlyP+rmUviYRezG2gD65rKA0ts3FZQJz5sxZrlw5lBb6jHuHe0o3EXeWHgk8+OCDCGjUBopN+xpGnGA6wAiEJeCAAQOyZcv2+OOPy3OBezMgefLkLFWJRp988gnObuvWrTg+9sJR6uvU6sT5TYfiKFtXxdJw5syZhCIc7i+//KJ9f//9dwKSXHPUTm46HCgiqvuWuf6iP4PGvtgU/bfI6JB5YO1IjNy2bdu0adOGDRvWoUMHZgyBVbFiRWJtgwYNyBLaCfMtWrQg9nfu3JkZQFENHjyYWDt+/Hh2JISsXr2aoLJ58+YDBw6wQmXmT5w4wYRzCCaHMXvHEHEaV7PeWEXCnV3AsLki9EafDJjOGTMXdNWqVQsWLODS6JED4+nbty+Sok2bNj/++CMDRmeQaNiwIUqibNmyRDJOihLaEEERiFu2bJFVOLyPARgbUdM74YxKoTSGK077v2YP7licuEszHrakNRtubMwD6idv3rz169d3X7LwDoyWrjE4yegdHgn6Ry2VLl0aocyFzp8/P/dO4sSJfTdTIoS1RMbixYuZfO1lGHGF6QAjEs6v4RCJRvgvPdJ0n26y0MRLpkuXjgiBf1Rjr5cktLClhC3OEVQVwPnz51W1Y8eOPn364BaJKxy0VKlShED3a7i3GhcUGa3WoJQIlQuGqtPhvLxnRHsWxARpnD7xnhBCsC9YsCBTVLhw4RIlShA1cfe9evVi0c/SX69NrFixYu/evexF6EV1sQyVQvJ3GgU3kxAwMAflmnbhL/WhKoYK/iIf3vIYuuWgGgBbxnn27FkuE3KBMMl2w4YNnBGnNnToUOQCM4Am4NyzZs2aPXv24sWLN27cuFu3bgiLAHGg0bIFOveX+tCQdETv2EgrcUOoKxL0wyXmoO5wegAAlLM9dOjQ559/zsi7d+/OjcDRNZMkfK38aGBUYf/XmjdBh71793733Xdfeumlf/zjH3ffffcLL7yAVaCWdu/eHXCZDCOuMB1gBIKPk8c8d+4c8XjChAk5c+bURwMffPCBXvRjbUrLCxcuOFeIt5UzjQH53wDnDmRZdL7xxhuIgDJlyhAwVB6zk70puJDAsZy7d8fFU4MLJECa+I0G0muPmTJleuutt15//fWiRYvWqFGDgEdEXLNmzZ49e4jxxEtWewgFZpIFIvuqE1BAUufAoYGj0IwqSqhy4/HC2BSHgGbKRp0onQ64kXuhVvjzHihUh2wZg7/UAwdFDShNM9owZqImkOB8sRnOF32DUEAe9ezZs2XLlgUKFMiSJQsRERNirjp16rRw4UJmUjPAON1gSJBVmjFwLDcM1+b60emrH5V4cQcCNA12jm2jbFQie5ZW0EwCYwgYBlW0pEpZzQ8lOiLSZ+bMmY8++ii3T/ny5VevXq1ugQbq0+lpw4gTTAcYgbBSV8L5O5aAo0aNIk4nSZLkww8/PH36NL7PLdm9zpRIACTwhuCcI5CmJYXq1utM5QcJrrhLgoQ+kaWBt+dbBIfmKBzLO1QKFd6IAceOHVu2bNnPP/+cL1++VKlSPfjgg6+++uqXX36JDpg4ceKOHTuIf/7dfGPWaXp7E5RoTnQ4f+m1UVfaRhuPvdDMQf/Rtle5BuAv8qGBKZKxO1t/hQe1YXe3r8Iz7ZX14htFBP68Byxn8+bN48aNa9So0Weffcbi+MUXX2T93aBBg7Fjx1JFAw3AewocmkJwEfT60YA1eBJcLASKSiKqfQ0ARcIY3nzzTQZAS5pxLJ1CtCfi8J3o//CX+kAMsdXpYELPP/98165dORbW5bUZNxLDiCtMBxiRcK7WeXk5MpY19evXRwSsX7/eVx+Bc2Ek8G7OD+LslHDQiaslrQYkCCeuMevm4cOHs14cP3482dj0jwyD8HD48OGdO3eyTh05cmTbtm3Lli2bOXNmxlOoUCFWtIyKxRwtGRgjBxIM3uv9AyIBbZjGgNmgDeX+jA9KvKjQdwR/M6VdLVuydOudIhWqgbIOlVwn3l3oMOAqeGuBdMTIPMcVrhxUxVaogYMAvHz58j59+pQrV+7TTz/95JNPihUrVq9ePSyBC7F79250GIrTKwv+ArJqZow+Z8yYoSuiLWqPgN2hQ4cMGTLItt0tQAMNWEcPGL+ynKA/75suJZg0zZsOocdmEyZMeO+996ZOnYrUoJB9KYxo7dnRMOIE0wFGJOS5QL4Jb8UWPzh48OCcOXOyZCcQ+uojvSGlZmzxoQGRAz+rPl2zaJGrxWPWqFEjW7Zsx48f14Hcsgzoxw3PGxhcA+8hvI2jHprdT5w4sWvXrsWLFxP1u3Xr1qZNm9q1axcvXrxUqVJ169YdOHDgrFmz9u3b55y1cavhMh05cmT+/PkYG1KgdOnSXI46deoQpPv37z99+vStW7ceOnTIfahPe4yErbJA2psFZfVrmGjZwoULf/vtt2g+Zz+oz9mzZ2fJkmXIkCEBphsAx5IVOaGg9tpSxbHYuk50CErU/ujRo61bt+ZAGJWv3m+3WKkeoRlGXGE6wAgE9yQPJYjNISEhRYsWbd68uX4EzdU6P+h8nxfnLvGP1+Pp6JZj7d27N1++fFWrVqXEG+wd+E1Xzi5k3XgkHbyDp6VrzBjofMGCBaw1u3Tp0qhRI319jqhPpEENoAlYgOpjEW8nwFECAoxxs2BuA+xHU80yffv27ciCYcOGtW/fHmWgbzk2aNAA3TZnzhz3433eq+ygExXSv0pWrlx53333pUyZcty4cWS50BwXOVugQIHGjRujC72P6wPwVmHYqEN1e9L3j4Ja8fsqI1DaDcndCJs3b86fP3+5cuVIo2ZoEO2NYxixjOkAIxDck6Kgi3y//PIL65g1a9Yo6xyrc3Be2ItyhwpvaMUzatSohx9+ePny5cp6+wHGBhxFCX+pDwbm3DFHlJNlHcaCj6jPyrJSpUrff/89gaRfv34Ekg0bNiBxiDfs6E4WlKZzyiHgKMatgElm2kGzrUsAzD9XH4V3+vRpVtLTp08fM2ZM165d0XCFChUqU6YMkm7GjBlcREI1zWiMDZBgR+3OlpCPVTdp0sT3lZdEqAoit4xqxIgR6dKlW716dcTB/gx6dsbA7upc6lMJJwh0Oq5cLWHChAnPPPMMYlRZZ66GEYeYDjACcUGXBA4Uj5YhQ4ZOnTo5D+icGrhFD7gG4NJOAXhbRsUtjGhG/7ly5SpSpIhKnD8F76EFtfL+3iMS3efOnduwYcOPP/74o48+KlmyZO/evVkFrl27FllAwKAfjkhLt86jHzcGaQhG4kqA/mM+BeMv4J1h0FUAZzak3UWXNRJrWYUfP358//79BNTOnTuj7dKnT1+iRIm+ffuy5naB2WstNL736n9eYBX6TgqdY9utW7emZcwhmZZsOTpjwGbIyt7Y0YV5d+O4AdCGM2JLe/UAWGPWrFmVBvbyWrhhxD6mA4xA5LDk5vBQhM/UqVMfPnyYrIK0wqG3mfN0tKcBrg2vqmY4dLm5P136sLvrGTf94osvrly5UlXqllp6plYHxdt6+zxx4sT69etZ833yyScvvfRSvnz5BgwYsHXrVhw3tbT8a95Wh4a/trvxN+Fa63IHwBUhHoeHh2sJTmLKlCmlSpVKkSLFm2++WbFixVmzZlFIG6B98+bNH330Uf2SD2pg1KhRdMsuNMZI1KcL5NGi6E5vXbt2xTgff/zxzz//fMaMGcOGDUuZMmWPHj2o5YiyE4bHVsZDQiXAQTdt2vTss8/Onz9f1g7RnqBhxBqmA4xA5Lycb8qYMWPTpk1VDiSIxGxpoCy4hNC+f8HNydXKHbNoa9SokUYS0ANZHZFanPgvv/xSpEiR999//6233mrTps3ixYtx1jRwA6Bb14PK2VFZQZZyVensGIPSgiq1NG4FXB0uATDVTDtQqKyuy59eAnd9ablt2zZMIleuXM8880y5cuUmTpy4ffv2559/Xh8K3HPPPagBysPCwliX16lThwNp3xh0AGqD7aJFi9KlS0cnqIf8+fOz+zvvvJM7d24O1K9fP0boemAYSgQMWw0Qqd9//71KdLKGEYeYDjACcS4M9u3blzRp0o0bN+Ir5dHkcLV1bpo0DY4cObJq1Sp8JVu9FL1mzRqisp7xsot7XhoVHZRO5HChe/fu2bNn15esgN2J7mfPng0JCdmwYcPo0aObNWuGP82WLRsulTWZnlh4Bw8cWn4W/+vGD77KmIi2jXowbiJcnb8wqxFK4epbLGx10Um4rkhgLUR67AQjeeqpp/7xj39IBzz44INsn3vuuQkTJtx///1LlizRLnSoxLUIDQ2tWrXqI488UrlyZf14xpkzZ7p06aLfCOrbt6/sXBrUt4cfJ2iUZZyDBw/+8MMP9S0G9wmIYcQVpgOMQFy0JjFkyJDkyZMTm+Vz8WXyuXrYrkKgfNOmTU2bNk2TJg0+l11y5sw5Z86cTz755L333nO/D/in6NB4ZML2wYMH2Rclgbuk/z179owfP75r164NGjRgMVe9enWEwsqVK51ucKs6UGxww/O6eLpyLWngvDOFLu3iCoXg+jFuOkyvP3U1XirtEt5CXRF3OUhEmxZkaYwhYVQZM2YkVLu/zhJFihRJliwZDfTpknck0TJjxox06dJ99NFH+hwBWcD2wIED9IOe6N27d7jvC43usyp6diN3yBTZ65133qFDFRpG3GI6wAgE5yWfyMqGpU+hQoVUHgN4wBw5cjzwwAP58+cfNGjQqFGjfvjhhzfeeOPll19OkSIFIVy/rUaH8oO4Zg7hVkLOBeO7Obq855EjRwoWLNi5c+cePXrUqFFDf4X3888/jxs3bvPmzWpvGMIrAkgj6VzJiBEj3H/93XXXXfqnjCRJkjzxxBNffPGF2rONWQdgtyNHjrz33nu5I9RSR8GSmzdvTocDBgxQP97nAdIEbjDaoly5X4oVK9ahQwdvuWHEFaYDjEiwiGGL/5KzY0VOJPbVRI/aE55ZWhG29+/fTxTHrx0/frxatWr4x/Tp0+/YscOt2oVzlEB7jhXVIZ49e/b7779nBfbTTz8NGTJkxYoVhw8fZmDmNI2oXMsqiNNE3DvvvFMfB8BDDz2UNWvWX3755fnnn+/bt68eQYFbx0dLWFhYw4YNUQ+YIlkkrDsi8pRuO3bsqHsBK50zZ87o0aP10wInPH8nqF2wdnSA/iFa5YYRt5gOMCIhX4ar0sI9adKkCxcu9NVcE3ximjRp7r777uHDh/uLfKAJ7rjjjtSpU2/atEklhH+ivnO4ZDmKDoSLdMsmwUiaNm1aq1YtJAV7qRmwO0supQ3Di9d+SGM2s2fPTpkypT4RQAFUr16dkqNHj1L7zDPPLFu2TA/zwatNo4VIj55o3769e2dFNvnjjz+iD7p27Uq6X79+dPvAAw88+uijKVKkQBD4GkagR2KCg9JbmTJlSDshYhhxhekA45oQ4B977DH3ez7XgjD/9NNPP/7448eOHdPK3j1OSJw48Ztvvrl7925l5TeV1hZoLxfsdAAJPDg6oF27dpUqVdJelES0NoxrI/tRgvhKuNVD+3feeadPnz5amjsZitHOnDkTYwOVxGBjtBk8ePC9995bsWJFRW79hzKagJU9OkOPzSZPnty3b18SkyZNeuGFFz766CPS0tZOyAJClmZff/01adUaRhxiOsAIxH1sHxoa+tRTTy1dutQ5yqjgOtetW5csWTLWQF5PB0R6XDCrsS1btuCX8Zgsj0aOHInz3b9/v3QATtD5QY4iP06fuFr4+eef9QPDIOfLXuY3jWsRVQewQB81ahS259WgwOo8efLk8+bNU1blMWvNjRs3vv3226+88op+DfDChQscYsWKFQR77Fzhn6PQCUfnJvr8888p172jrZ49aGy9evUqXrw4WcOIc0wHGIE4b4jDeuyxx3B/MftHgjrN7rzzzqNHj5LVj77pCwUPPfQQS7Fdu3YdOnSoRo0a2bNnx2mmSZMmb968a9eu9e3t/+oBOB2AU+aIuNSOHTvWq1dPJfoswESAEQOyH0EaKwowXZclir/++uubNm2SPqBxzKaFcWKEbdq0efTRR3Pnzj169Oj169f//vvvpNHKxPvffvsNbSFjpvHx48c//vjjwoULk6Vz78sH0gqdOnUqX768SrzDNozYx3SAEROPP/44Kx5/5hrg/j799NOkSZMOGjQIB+dc3rRp0/CPL7zwwr59+3C7S5cu1Zq+Z8+eKVOmHDJkiEK7c4IklNbiCb/8448/Vq9e3TUArdtMDRgBeI3ECzZGFYaH5ciutCX78ssvL1myRG+w0kamFQO02bNnT8uWLVOlSoW1Y8Pp06fHRIsUKeKeB9A5zU6fPt26desXX3xx4sSJlAQYLVluk3bt2n3//fcajGHELaYDjECcuySiP/fccyx6VB4taty1a9ckSZJ88MEHWuXjdtetW5cxY8b77rvvvffe09+6A8svPGOTJk2yZs26Y8cOFUocCHlzvCQJPPgPP/xQp04dVXEgCt3qTYWGIbwmQVrW4s9fRZGYrapef/31oUOHkgbZVcxSgB1pwHbu3Ln9+/f/7bffFi9evH///p9++gkd0KdPH+na8PBwNEGaNGnatGnDMNhF3WorsPC2bdtWqFCBQt1BhhGHmA4wrgne6rPPPmPF43VVbrlPLVs9CD1+/Hj58uVZJL300ksFCxYk/eabb9aqVQv/mDlz5s2bN2vVlTt37tdee+2NN96YPHkyayZ5RjllIXcMdH7ixInvvvuuU6dOKnFywa2rHHLl/oxhXB9YY/369UlgbArhf42mTZti54MGDcIIsXMEwdtvv92xY8fDhw/LaN3bCe4+OnXqFPcIUkBZr0QwjNjHdIARCS2knMPCUX788cckXKB1VdIBoHXSyZMnWSRlzJjxmWeeSZ06NfH70KFD+MdXX31127ZtNKMH5ML8+fPpMG3atPotIAV1vKdeoSJLt3KLR44cyZEjx/jx43VEd1x8qwaprGH8NbBtRCoJJzGdDL0hMHXsvEuXLlhv586dH3zwQdQzhaTbtWunl2a86BkAbfr27Sv719Yw4grTAUYkFF+dZ5wzZ84999xz5swZyvFfitBAVoHZlQB7nTt3Tl83kEtNnDjxW2+9pf8a0K+pA7IgSZIkeuDP7npU4HCHXrp06XvvvUdjpwBofC0FYLLAuCEwmLlz5955551oU3+RR9pePxcvXmzSpMkjjzzSqlUrsv/4xz/uu+++xx9/HDVw//33p0yZcsaMGboXaKn+ySKC33jjDWxbzyGchRtGnGA6wIgG99VBFMDzzz8/atQo0rhOt2DyekzKidBRIzFLfHQAsXzTpk0hISEnTpw4f/78oUOHxo0bh/9lqUQbPKDr0z2b1dFbtmyZL18+atW/qoBdAp7i0oBC4S8yjBjBoi5fvkz8HjZsGFknUv8CXbt2xchnzZqFhMVcsV5nh/oPggDrZat/x1bWHgYYcY7pACMacGfOl9WoUYN4HLBwkfNS7GdLVs/z2VHeUELhjjvuePvtt1n9EPvpp2zZsmyzZctWuHDhgwcP0kDN2FEdKouAoOTdd9/99ddfVahab/ingVd5kPZmDSNmZC3Vq1f//PPPEQTeUH2jeO8Fd4O4x1rg0uhg0ufOnUufPn3Hjh1l7YYR55gOMCIhh+iLqv4Yv3DhQmL50qVLffV+5PvwevpVNXC7gB710xU6gKUS+27ZsqVnz54///wzK6GBAwcePXpUKyeayRs6B6oBDBgw4Lnnnjt27JgKnQKg2YoVK+bOnYvv9ooVw7hRML8dO3YkT5588uTJZAOU5XWCESqh92e11U0hTRxR58N13rt375dffvnQoUM0lgFrL8OIK0wHGJFwAV5ZnOPZs2crVqxYs2ZNPJerCljK4PKAfZ1rUzhnQb9o0SLnFlUY8PwfqGIrb4iGQCWgHho1akTWvWbFMMaOHVuhQoXPPvusbdu2eurwFxy3YQgFaWy7dOnSp0+fxm5lnzeK/k+IOyIgnHs/INCtQSIkJCRz5szcTSrXfST7N4y4wnSAEQkXknFhzovNmDEjVapULOtxW2rgPKa3WbRIWNBeLs/r+NSJSnDKCupsGzZsmCxZMldy8OBBAv8nn3zy9NNP33333aylRo4cyb5eEcAYKFGHhvGnyAIxzuXLl7/11lvjx49X+Y0i45cNgzSubF6QdmZJ41atWr344ouIWnc7uH0NI64wHWBcEwKti6+1atUqUaLErl27KA94VwDwqvJ37OINz9FCgNe+6l8JtnQCc+fOffbZZ+WX169fz0GfeeaZJEmSJEqUSP8cnz179vO+ny6mgSCNM/WW0A+rMcajrLfKuF3hcnPdvdeaEgxDZukv8kFWoZot1tigQYPPP//80KFDekIAXtv2BvVoobE32AP9MxISFy5cUFca24IFC5544ok5c+a4/r17GUZcYTrAuCa4M8BnwaZNm9KmTdulS5dzV/8+NSwsLCD6iqglXqJ6Vd9B/Lvs2bMnZ86c33333ZEjR1ADDz74oP4xFu644w62aIKePXuqsYI9HXqPSNY5WcCzO+du3Ma4VTUGQPT1mgRgEphKQJhnUX7w4MEBAwZ8/fXXOXLkaNKkCSbNjrR0H2/9KVGtix0lArQFBft9+/Zh2zVr1jx8+DBZjdAeBhjxAdMBRkzgrQQOa/jw4R999NHQoUP1/60Cjyk1gPvD312n98QF64eDQMqAfffv31+uXLkyZcro9we/+uorAn/ixIlRAPfee++dd95J9pVXXnE/SCy00lLaeVUKva6c4Slh3MZwxZ3K5IqTxh4oVImDyH369OlVq1a1a9cOeytcuPDkyZN///33zJkzDxw4UL+PCQregHW5bqPibI8jul0EekIJjHn37t2tW7fOli3bxo0bVShb1S7XedcYxi3CdIBxXchVtWrVKlWqVAgC3KX3W3wCVwi0dPE4Kl6/jBRwvpKlWPny5VmWub8jWr9+/RNPPKHwD/pQ4JNPPpk+ffrWrVs5kHd3usXbknCHZhj4aPwsJa6ZcdsjCejP+MAAsFXsAZthUY6QrVevXunSpVu0aLFy5Up9xR9T6dy587vvvtu/f3+9D+sC/PUEaQ4K/owPjsWWTpC8yI7GjRtnypRp4cKF6patutU2YF/DiGVMBxiRiIjkPvz5q8h/Ea179OiRLFmynj17uriLLwvwgzGsn4Bar6cmSON5WZl9/vnnEyZMoEPVHjhwIGvWrMT+xIkTs73vvvvYNm/evEKFCjVq1KhevXrfvn3RCvjZgNEyEufEo56IcbuCfPTaldcmka2E/Pbt22Nm9evXZ92vf9OmPVu1IVp36dLlueee6927N2m3r7OlaMHAaOAak2AYrk/659B16tRJmzbttGnTMHXaU+s+TXA7GkYcYjrAiAR+SvjzHvTIlKoRI0akSZOmcuXKGzZscKslEs79xYxzrGo/f/78zJkz582bd9asWd5D40NZuun9gIcffphttWrVqN2zZ8+qVauGDx/eqVOnMmXK5MqVq2bNmrNnz0ajoDDc7xngYeV2Scfsyo3bAyzQWSOWoBAbEhJC1Gf1X7x48TZt2mBjhw8fVjPsWYKVhL77h52MGjUKa6Txrl27MB41cN1GhSoXy2nvbgEiPVXLly//4IMPPvvsM2THxYsX1dJZOFASQ+eGETuYDjCuCxycc1jh4eFEYiI3amDOnDn79+9XOWht5PV0Aeg1Q5rhYfGMrOz/+c9/Vq1aVY4YCOc6EAv9tWvXpkuXDgWgTwcWL16sNlpOnTp1ikOvWbOGZRxqIGPGjIULFx43bhxCQc2cUzZXe9ujgA3uWmMt9erVe++9977//vsJEyYQ/rE6LFPGqadZ4HbEqFS1bNmyLFmypEqVChlK4XWKSG9LDPvo0aOtWrXCtqtXr37gwIHTp0+ryuHGeZ3q2TBuHaYDjJiQ3wTSLNAVv1WOa2vevHmSJEmKFSu2YMECxebrgSU7wZ4F/auvvpo8efKRI0dSqCe0zjnq2QPNkAj6RKBUqVKUIDKkM6J6z7179+LuCxUq9NJLL73wwgsojKVLlx4/ftx5fOP2BgvEKgjA7dq1I4q/++67DRo0QCnq7RBMy4V8r/FQ7qxOaYwcm/n5558ffvjhjz76CFkQ9VUYB9aohLP/kJCQiRMnvvnmm4gAfc4lC6QlnbtDu/ZuVIYRV5gOMP4W27dvr1ChAi7vs88+69Wr14oVK4jHxG/8Hf43PDyciI4fZHF/7Nixffv2EZvxzvjoDBky4K9p7O/oGgwbNixZsmQPPvig+6WXGJyy4LirVq1iNZYjRw78OMPr0aPHvHnzNm7ciCyQ4HDuWOCgfQLD/3+GoHISEZHB8zjBu6Nr5hq4kpi5zma3E8ytP+WZVe88aP4pAU0yCTexbncKAxIEVExr9+7d48aNq1SpEnZYtmxZIjFGqAY3Char465bt658+fJvv/12+vTpf/3117lz57Kyx5LPnTuHYWPVWBpRHKM6dOgQ4X/hwoVNmjTJmjUrKgQZsWnTJnVIMzd+w4iHmA4w/hYsnoisGzZs+Omnn3Lnzp0lSxZW5GXKlGE5TrwnGBPsW7ZsSfabb77JlSsXCqBYsWL9+/d3T+8hhiU7wTt79uw5c+bUTxjhT2N+TusL8f8L1TjuMWPGMIyCBQuWLFmyTp06HTt2HDFiBC57x44drB3pzQUbL5xUtOVABNJZE4EC/LsLTkAVQYISb2EwwzwwpUxLwIREOz/MbdRyN5/0w/wfPHhwzpw5PXv2bNq0KVZXq1atUaNG6dv5QJu/sNR2B0UNyNKw7U6dOr3//vuffvpp/vz5y5Ur98MPP7Ru3RqjIuo3bty4bt26aM18+fJ9+OGHefLkQQ0H/CSR6zMGOzeMOMR0gPG3cK4Wx3fq1Klt27axcCf24yWbN2+OFCD01q9fv23btr/99hurtL1797pfIsI/RuvuvRDUu3btyr7KOvf6p+B/2dfF6YsXL6IkGAA6AD+uUTVq1Khbt26jR49m5cfgpQnYK1qpQVccHVdOG3+RbzwaErXgrRKcnRd/abDCDDBFgunShINqSXCZCPDKAiXaxWk7ZnvLli3Dhw//8ccfq1WrVqVKFVRmv379uLjOrmjj1YI3BPsGSEBdWRL79u3DVNC7DRs2JPwDhoSRowY6dOgwYcIExoB5eK8yw7CLbsR/TAcYfxecpvwmLk8fBJCW6xTUIhdAgZmtEnKR1HobR2Xnzp3640F60IG8oSIAhRZ/Jjo0SFw2S8mRI0ciMnDllStXLlWqVNWqVbt3775o0aKQkBDOgqMwTnqDAG9OFRHLHcirG2hJuU4zoDygk6CCCXHTFRUmiunyZ3y4pbMuKJdsxowZqLeiRYt+//33LMeRAlyp3bt3yxhkdUBj11VAn9cJl0kGSYKjK81RZMC+Jn50of0ZH9qXZt7GFAboG8OIV5gOMP4WcpQBEQ7/SIm8JJDwV9w46ooEWyWAPpW4Fm4v4dp7CwUOOiwsbP/+/StXrmS116ZNm3LlyuXNmzd37tzEm969e69aters2bNqjHOnvdLy9Uobf4qzE+DqMHuK/XqJD2QtSusyIQXWr1/frVu3/PnzZ8qUievSt29fYv/27du5ZFr0swvQFe1J6NkMUPV3ngowGMK2hgEBIZzrTgltSNOGozBUhAgDcA2UAJpBxGlHsT3DiCeYDjBuDvhiLXpIyC8HOD4K9V6VHCjIg7tstDjfKp9ONuboyxjUkqPTMmpjHZRytq5z0GjZcgrnzp1bu3btlClTmjVrljlz5scff/y1115DFgwePHjz5s3uO2AcCNQhCefuIxy/D9JqGcC1yg0mH0E2cOBAdBhzniJFiqpVq06fPn3Xrl2hoaFMqXtOALdiGrmOLsaDW8frsqoQArLCOx6sgmy0zQwjvmE6wPi7sPDyemcHTtAXKP/uR6SK1vTDlvh9nY7VHZTd5dmjHQa1GqTrlgRxnQSFkhG02blzZ//+/StVqpQ6derXX389bdq0JUuW7N2797Jlyw4ePEiIOnv2LDFDQ3VwREkE76FJB2Fs0FRwITS3ZJkuFBXztm/fvlmzZv34449ffPFFmjRpsmfPXrFiRWK/PgxiSp2Y076CHqhyM+naoDWdNQZcjhvCe8mcFHAdclwdXU8dvI1BF92f8e1IMwYG/iLDiE+YDjD+Fl5/h1sk6/XOAj8IFEK0tQElAcj7s6WZDuce/0aF/unQn4kCtWoAJLxxJQBq/SlfmpauW6L+unXrxo8f37x583z58mXLlq1gwYLfffddvXr1unTpMnr06AULFmzYsGH37t1IBGISUcQbKkjEfL63JczAmTNnmJAdO3asXbt26tSp3bp1q1+/fuHChT/99NO8efO2bdt20aJF+/fvVxQPmCUnIICuQGlwE8tl8pb/tUlmL3fpSSMv1D9byt2xqHJpIAv+zFUYDIbqbWYY8RPTAYZxw+Dcnd8/f/780aNH586dO3LkSIJZjRo10ASsaGvWrEmc69y5MwGvb9++I0aMmDFjxurVq9EHhw8f9j48kM5wWaFDsAV/kSfm+eJOxADYsiNbbzNfZfRQS0sSrj0JHTpqucIqhTqEyqNClVSasuzFKp852bVr14oVKyZNmjR48GAUUrt27Ro1alSpUqUyZcpUr169Q4cO+pzl5MmT2jeGQxiGceswHWAYN4xCptIkvB+LkEUZsPAl5M+ZM6dfv369evUiCiIRWrRoQSBEHNSrV49ASKJ169Y9e/YcNWoULWmvlw/Cw8PdU27B4dxqmIQ3rYQICOTR4u2ZxvSgE4m6l/ccHRRKtZBmy1BPnDixZ8+elStXEu+HDBnSpk2bli1bcpp1fTRo0KBp06aUIIaGDh06f/78nTt3hoaGumHokbtwSijmUzAM4+ZiOsAw/goBMVIBElwMI+2i3ZUrV8LCwg4dOrR9+/Z169YRNWfOnDlu3LiBAwcSIFkoEyxr165duXLlAgUKFCxYsEiRIqVLl65ZsyZCoXfv3sTXqVOnLlmyZP369Vu3bj1y5Ig7Ogkv7ugkokVVDMyNTahKCUZOV8oeOHCAZT3HnTdv3pgxY/r374+mYSnP2MqVK8c4CxUqVLJkyVq1av34448dO3bs06cPq/zx48fPnTsXZbN3796zZ8+63iJGcHUM/478hQuyHFdptTEMI3YwHWAYfwVilTfuQtQSUEylUJCmRM/bSVy4cOHMmTOnT59mVR0SEsLCWnEXrUAcHTVqFCIAldCiRYsqVaqUKlXqq6++ypMnz0cffZQqVaoXfJCmsKKPb7/9tlixYtWrV0c9/HJtunfvzpaA3a9fv86dO7Nkr1Chwtdff128eHHEB53kzZs3ffr0yZMnf/rppz/++OOcOXMWLly4fPnyKBVW9ugA9v39999nzJjBOPfv33/06NHjx49zCidPngx4WVLBXs8POHcSQEK1TAiN3bSoELxpwzBuNaYDDOMGUFBXmoRWsS6wORTzYnif8VqwV0AUdOtmyl0V/eugiIalS5dOnjx5ypQp8+fPRz0MGzaMdXnza9CsWTNUBduGDRvqh5/79u07duzYRYsWseKfPXv2woULN27ceOzYMR2LU2AAHEsxWwcNgDEzQje264c+wZ/x8Be6MgzjL2M6wDBuAEKUN0oRxryhkbSipj9/FZqxF1WgHsBfd1VPRKyUr37eTy1pCpUF117NdNyoOoNyavWaerSoSo3pgfgNHIi0b1D/GxXpy57vW7IlLSI6uvpg37uLFxr4U540+7ILY2CQKnHQxnf86HszDOPWYTrAMG4MYhXxzJ+5GuQCAhgNiHYXL16kVg0C8PbgRTHen/FBz954T63bVwf1llwnAafgoPB6unJtJGuUplCSIqBzhkdh1POikPOisZfrObphGDcX0wGGcWMQq4hh3rSLcArJMcQzGlCr3V3jqO0piVin+8Kq65xQCkpTThulRczHddCADoXak6BcW0Ha9UOCY3Fc7+FooFMQ3vZCJeDtFsgGlESFvQJOzTCMW4rpAMO4bdGDBKK4JIUKz507R6wlof/mocpXbBhGkGI6wDBuQxTdWVi7f+MNDw9ne/Hq/yS5RwsBa33DMIIN0wGGcXvinsCHhoa2a9fugw8++Oc//1m0aNEpU6Z4P19g+6fP6g3DuI0xHWAYtyd6C+/QoUNffvnlAw88kDFjxkyZMj3nY+TIkTTQ5wL6jMAwjKDFdIBh3LZcuHChVatWd911V/369fUMYNKkSU8++eQ777yzZcsWPQbw/rKvYRhBiOkAw7gNIbpfuXJlxYoVb7311ttvv33q1CkK9QCgadOm999/f+fOnX0N/R8NGIYRtJgOMIzblmHDhj3yyCP16tUjrecBJ06cWLhw4UsvvZQ3b97/8/x9kWEYQYvpAMO4DSHGX758uWbNmnffffeIESP0ZQF9BLBy5crkyZMjBfRmgD0PMIwgx3SAYdyenDlzpmTJknfdddfcuXPJEu8V+Hfs2JEmTZoHHnhAhRFNDcMIYkwHGMbtybFjx7766it0wJo1a9zLgP/5z3/27duXLVu2RIkSud8SsK8MGEYwYzrAMG5D/vjjj9OnT5crVy5x4sSrVq3SLwXpPcFNmzZ9+umnd999t69hBPY7QoYRzJgOMIzbk8uXLzds2JB1v34tALTuX7p06XvvvZcqVSoV/l+UfwcwDCOoMB1gGLcnly5d6tOnT7JkyerXr0+wv3DhAiUkJk+e/MILL3z99deEf/u+gGEYpgMM4zZE/y+waNGilClTpkuXLiQkROXogB9++CFJkiRdunQha+8JGoZhOsAwbluOHz9evHjxZMmSderUKSws7MqVK6NHj06bNm2GDBk2b95MA3SAvRxgGEGO6QDDuA3R7weQWLVqVfr06ZMkSZIrV64CBQq89tprTz311NChQ6m6dOmS+1vCiH0MwwhKTAcYxm0LaoDt/v37a9Wq9fTTTz/yyCOlSpWaM2eOaq9cuaKEvSVgGMGM6QDDuA3RQv/f//63i/F6POCW/kgE98tChmEEM6YDDOM2xL0AeOHCBQV7SlSIMpBKAPvKgGEYpgMM4zZEIZ8wr48GHO6zAHDKwDCMYMZ0gGHcnqAAWOtLBxD+L126pHJBlRMBpgYMI5gxHWAYtyF//PFHwJMA+M9//kP55cuXvZ8F/Pe//7XvCxhGMGM6wDBuZy5dunT+/HlpggBlQBZNYK8KGkaQYzrAMG5Poj7t/5cPVv8BgsCeBxhGMGM6wDAMwzCCF9MBhmEYhhG8mA4wDMMwjODFdIBhGIZhBC+mAwzDMAwjeDEdYBiGYRjBi+kAwzAMwwheTAcYhmEYRvBiOsAwDMMwghfTAYZhGIYRvJgOMAzDMIzgxXSAYRiGYQQvpgMMwzAMI3gxHWAYhmEYwYvpAMMwDMMIXkwHGIZhGEbwYjrAMAzDMIIX0wGGYRiGEbyYDjAMwzCM4MV0gGEYhmEEL6YDDMMwDCN4MR1gGIZhGMGL6QDDMAzDCF5MBxiGYRhG8GI6wDAMwzCCF9MBhmEYhhG8mA4wDMMwjODFdIBhGIZhBC+mAwzDMAwjeDEdYBiGYRjBi+kAwzAMwwheTAcYhmEYRvBiOsAwDMMwghfTAYZhGIYRvJgOMAzDMIzgxXSAYRiGYQQvpgMMwzAMI3gxHWAYhmEYwYvpAMMwDMMIXkwHGIZhGEbwYjrAMAzDMIIX0wGGYRiGEbyYDjAMwzCM4MV0gGEYhmEEK//v//1/s75sljE9TLkAAAAASUVORK5CYII=)"
      ]
    },
    {
      "cell_type": "code",
      "execution_count": 36,
      "metadata": {
        "colab": {
          "base_uri": "https://localhost:8080/"
        },
        "id": "uFQ3a4xvsqo6",
        "outputId": "a58ca310-a9c0-46c8-a7e2-0b70377f8ee6"
      },
      "outputs": [
        {
          "output_type": "stream",
          "name": "stdout",
          "text": [
            "alphabets: ['0', '1']\n",
            "finite states: ['q0', 'q1', 'q2', 'q3']\n",
            "intial state: q0\n",
            "final states: ['q0']\n",
            "transition tabel:\n",
            "   State   0   1\n",
            "0    q0  q1  q3\n",
            "1    q1  q0  q2\n",
            "2    q2  q3  q1\n",
            "3    q3  q2  q0\n"
          ]
        }
      ],
      "source": [
        "alphabets = ['0','1']\n",
        "states = list(transition_table1[\"State\"])\n",
        "intial_state = \"q0\"\n",
        "final_states = [\"q0\"]\n",
        "\n",
        "dfa.append(DFA(states,alphabets,transition_table1,intial_state,final_states))\n",
        "dfa[0].display()\n"
      ]
    },
    {
      "cell_type": "markdown",
      "source": [
        "#DFA-2"
      ],
      "metadata": {
        "id": "WBWPGUquuQEp"
      }
    },
    {
      "cell_type": "markdown",
      "metadata": {
        "id": "nPxfB8Rusqo6"
      },
      "source": [
        "![DFA_2.png](data:image/png;base64,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)"
      ]
    },
    {
      "cell_type": "code",
      "execution_count": 37,
      "metadata": {
        "colab": {
          "base_uri": "https://localhost:8080/"
        },
        "id": "VJlJg1yrsqo7",
        "outputId": "426adbbd-e3fb-4c35-9c7b-2093f85e424f"
      },
      "outputs": [
        {
          "output_type": "stream",
          "name": "stdout",
          "text": [
            "alphabets: ['0', '1']\n",
            "finite states: ['q0', 'q1', 'q2', 'q3', 'q4']\n",
            "intial state: q0\n",
            "final states: ['q2', 'q4']\n",
            "transition tabel:\n",
            "   State   0   1\n",
            "0    q0  q3  q1\n",
            "1    q1  q1  q2\n",
            "2    q2  q2  q2\n",
            "3    q3  q4  q3\n",
            "4    q4  q4  q4\n"
          ]
        }
      ],
      "source": [
        "alphabets = ['0','1']\n",
        "states = list(transition_table2[\"State\"])\n",
        "intial_state = states[0]\n",
        "final_states = ['q2','q4']\n",
        "\n",
        "dfa.append(DFA(states,alphabets,transition_table2,intial_state,final_states))\n",
        "dfa[1].display()"
      ]
    },
    {
      "cell_type": "markdown",
      "metadata": {
        "id": "uAAyK_NPsqo8"
      },
      "source": [
        "![DFA_3.png](data:image/png;base64,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)"
      ]
    },
    {
      "cell_type": "code",
      "execution_count": 38,
      "metadata": {
        "colab": {
          "base_uri": "https://localhost:8080/"
        },
        "id": "J5Q_EwzKsqo8",
        "outputId": "8c3c003a-45ab-4248-b365-b6fa6a922c31"
      },
      "outputs": [
        {
          "output_type": "stream",
          "name": "stdout",
          "text": [
            "alphabets: ['a', 'b', 'c']\n",
            "finite states: ['q0', 'q1', 'q2', 'q3']\n",
            "intial state: q0\n",
            "final states: ['q2']\n",
            "transition tabel:\n",
            "   State   a   b   c\n",
            "0    q0  q2  q2  q1\n",
            "1    q1  q3  q2  q2\n",
            "2    q2  q3  q3  q3\n",
            "3    q3  q3  q3  q3\n"
          ]
        }
      ],
      "source": [
        "alphabets = ['a','b','c']\n",
        "states = list(transition_table3[\"State\"])\n",
        "intial_state = states[0]\n",
        "final_states = [\"q2\"]\n",
        "\n",
        "dfa.append(DFA(states,alphabets,transition_table3,intial_state,final_states))\n",
        "dfa[2].display()"
      ]
    },
    {
      "cell_type": "markdown",
      "metadata": {
        "id": "9XufeY0ysqo9"
      },
      "source": [
        "#Reading String from file "
      ]
    },
    {
      "cell_type": "code",
      "execution_count": 39,
      "metadata": {
        "id": "GrzPOxIwsqo9"
      },
      "outputs": [],
      "source": [
        "strings_01 = pd.read_csv(\"strings_01.csv\")\n",
        "strings_abc = pd.read_csv(\"strings_abc.csv\")"
      ]
    },
    {
      "cell_type": "markdown",
      "metadata": {
        "id": "Bo2a9aTwsqo-"
      },
      "source": [
        "#Check Strings DFA-1"
      ]
    },
    {
      "cell_type": "code",
      "execution_count": 40,
      "metadata": {
        "colab": {
          "base_uri": "https://localhost:8080/"
        },
        "id": "XO9nrZCWsqo_",
        "outputId": "51a5c093-dd9a-400b-ca31-f233937e8345"
      },
      "outputs": [
        {
          "output_type": "stream",
          "name": "stdout",
          "text": [
            "abbb :- Invalid String!\n",
            "100 :- Not-Accepted\n",
            "101 :- Not-Accepted\n",
            "0101 :- Accepted\n",
            "0 :- Not-Accepted\n",
            "00 :- Accepted\n",
            "01 :- Not-Accepted\n",
            "10 :- Not-Accepted\n",
            "1 :- Not-Accepted\n",
            "10001 :- Not-Accepted\n",
            "010001 :- Accepted\n",
            "10101 :- Not-Accepted\n",
            "10110 :- Not-Accepted\n",
            "001 :- Not-Accepted\n",
            "010 :- Not-Accepted\n"
          ]
        }
      ],
      "source": [
        "for string in strings_01[\"String\"]:\n",
        "    flag = dfa[0].perform_transitions(string)\n",
        "    if flag == -1:\n",
        "        print(string,\":- Invalid String!\")\n",
        "    elif flag == 0:\n",
        "        True\n",
        "        print(string,\":- Not-Accepted\")\n",
        "    else:\n",
        "        print(string,\":- Accepted\")\n"
      ]
    },
    {
      "cell_type": "markdown",
      "metadata": {
        "id": "5A93qgJ9sqpA"
      },
      "source": [
        "#Check Strings DFA-2\n",
        "\n"
      ]
    },
    {
      "cell_type": "code",
      "execution_count": 41,
      "metadata": {
        "colab": {
          "base_uri": "https://localhost:8080/"
        },
        "id": "KH7Ad5LdsqpA",
        "outputId": "0d778e76-a910-46a0-fc43-188bb9bb40cb"
      },
      "outputs": [
        {
          "output_type": "stream",
          "name": "stdout",
          "text": [
            "abbb :- Invalid String!\n",
            "100 :- Not-Accepted\n",
            "101 :- Accepted\n",
            "0101 :- Accepted\n",
            "0 :- Not-Accepted\n",
            "00 :- Accepted\n",
            "01 :- Not-Accepted\n",
            "10 :- Not-Accepted\n",
            "1 :- Not-Accepted\n",
            "10001 :- Accepted\n",
            "010001 :- Accepted\n",
            "10101 :- Accepted\n",
            "10110 :- Accepted\n",
            "001 :- Accepted\n",
            "010 :- Accepted\n"
          ]
        }
      ],
      "source": [
        "for string in strings_01[\"String\"]:\n",
        "    flag = dfa[1].perform_transitions(string)\n",
        "    if flag == -1:\n",
        "        print(string,\":- Invalid String!\")\n",
        "    elif flag == 0:\n",
        "        True\n",
        "        print(string,\":- Not-Accepted\")\n",
        "    else:\n",
        "        print(string,\":- Accepted\")"
      ]
    },
    {
      "cell_type": "markdown",
      "metadata": {
        "id": "q1AkvAKCsqpB"
      },
      "source": [
        "#Check Strings DFA-3"
      ]
    },
    {
      "cell_type": "code",
      "execution_count": 42,
      "metadata": {
        "colab": {
          "base_uri": "https://localhost:8080/"
        },
        "id": "Nx8QLtWpsqpC",
        "outputId": "b145d700-b027-46a8-e840-63594bcf5f12"
      },
      "outputs": [
        {
          "output_type": "stream",
          "name": "stdout",
          "text": [
            "abc :- Not-Accepted\n",
            "abbc :- Not-Accepted\n",
            "abcbca :- Not-Accepted\n",
            "aabcba :- Not-Accepted\n",
            "a :- Accepted\n",
            "b :- Accepted\n",
            "c :- Not-Accepted\n",
            "ca :- Not-Accepted\n",
            "ba :- Not-Accepted\n",
            "abcaaa :- Not-Accepted\n",
            "abbcab :- Not-Accepted\n",
            "010111 :- Invalid String!\n",
            "cbaabc :- Not-Accepted\n",
            "ca :- Not-Accepted\n",
            "cb :- Accepted\n",
            "cc :- Accepted\n"
          ]
        }
      ],
      "source": [
        "for string in strings_abc[\"String\"]:\n",
        "    flag = dfa[2].perform_transitions(string)\n",
        "    if flag == -1:\n",
        "        print(string,\":- Invalid String!\")\n",
        "    elif flag == 0:\n",
        "        True\n",
        "        print(string,\":- Not-Accepted\")\n",
        "    else:\n",
        "        print(string,\":- Accepted\")"
      ]
    },
    {
      "cell_type": "code",
      "execution_count": 42,
      "metadata": {
        "id": "B1gLOYdzsqpD"
      },
      "outputs": [],
      "source": []
    }
  ],
  "metadata": {
    "kernelspec": {
      "display_name": "Python 3.10.8 64-bit",
      "language": "python",
      "name": "python3"
    },
    "language_info": {
      "codemirror_mode": {
        "name": "ipython",
        "version": 3
      },
      "file_extension": ".py",
      "mimetype": "text/x-python",
      "name": "python",
      "nbconvert_exporter": "python",
      "pygments_lexer": "ipython3",
      "version": "3.10.8"
    },
    "orig_nbformat": 4,
    "vscode": {
      "interpreter": {
        "hash": "d8faed0dc9b748b31434cdf6cc95ada40426c934059699ce7536d3093cda84de"
      }
    },
    "colab": {
      "provenance": [],
      "collapsed_sections": []
    }
  },
  "nbformat": 4,
  "nbformat_minor": 0
}